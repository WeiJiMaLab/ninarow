{
 "cells": [
  {
   "cell_type": "markdown",
   "id": "fe18e5e4-1afd-4949-b2d1-850f76d205e5",
   "metadata": {},
   "source": [
    "# Customizing Tree Search"
   ]
  },
  {
   "cell_type": "code",
   "execution_count": 20,
   "id": "86eafb54-e8c9-4245-a780-7e5a2d76df6d",
   "metadata": {},
   "outputs": [
    {
     "name": "stdout",
     "output_type": "stream",
     "text": [
      "The autoreload extension is already loaded. To reload it, use:\n",
      "  %reload_ext autoreload\n"
     ]
    }
   ],
   "source": [
    "# your other imports here ...\n",
    "import sys, os\n",
    "import pandas as pd\n",
    "import matplotlib.pyplot as plt\n",
    "\n",
    "# TODO: replace with your path/to/ninarow\n",
    "ninarowdir = os.path.dirname(os.getcwd())\n",
    "modelfitdir = ninarowdir + \"/model_fitting/\"\n",
    "# os.listdir(modelfitdir)\n",
    "\n",
    "# sets the import path to the model-fitting directory\n",
    "sys.path.insert(0, modelfitdir)\n",
    "from parsers import *\n",
    "from model_fit import *\n",
    "from utils import *\n",
    "import model_fit\n",
    "from tqdm import tqdm\n",
    "from tree_search import *\n",
    "\n",
    "# WARNING: %load_ext autoreload and %autoreload 2 may interfere with \n",
    "# the Multi-threading processes!\n",
    "%load_ext autoreload\n",
    "%autoreload 2"
   ]
  },
  {
   "cell_type": "markdown",
   "id": "ee6157b8-7034-436d-b9bd-955041d96492",
   "metadata": {},
   "source": [
    "# Data Handling"
   ]
  },
  {
   "cell_type": "markdown",
   "id": "341377a9-51b4-44a6-b96d-918d52120dcb",
   "metadata": {},
   "source": [
    "### File Formatting\n",
    "The data columns should be ordered: \n",
    "\n",
    "    - black_pieces (binary), \n",
    "    - white_pieces (binary), \n",
    "    - player_color (Black/White), \n",
    "    - move (binary), \n",
    "    - response time (not used in fitting), \n",
    "    - [group_id] (optional), \n",
    "    - participant_id\n",
    "\n",
    "for more info, see `parsers.py`"
   ]
  },
  {
   "cell_type": "markdown",
   "id": "acd44263-aa78-4d10-bd90-c418a692eb05",
   "metadata": {},
   "source": [
    "# Fitting the Model to Data"
   ]
  },
  {
   "cell_type": "code",
   "execution_count": 21,
   "id": "ec60ffb0",
   "metadata": {},
   "outputs": [
    {
     "name": "stdout",
     "output_type": "stream",
     "text": [
      "Building output directory at ../data/out\n"
     ]
    }
   ],
   "source": [
    "data_path = \"../data\"\n",
    "output_path = \"../data/out\"\n",
    "n_splits = 5\n",
    "fold_number = 1\n",
    "threads = 1\n",
    "random_sample = False\n",
    "verbose = True\n",
    "\n",
    "print(f\"Building output directory at {output_path}\")\n",
    "os.makedirs(output_path, exist_ok = True)"
   ]
  },
  {
   "cell_type": "markdown",
   "id": "f16ea3ac-c9f7-4643-b3e2-8d5677b40b99",
   "metadata": {},
   "source": [
    "## Comparing Original Code with Custom Code"
   ]
  },
  {
   "cell_type": "code",
   "execution_count": null,
   "id": "b4f73bed-2f4f-434b-bbaa-58d756a9ad8c",
   "metadata": {},
   "outputs": [
    {
     "name": "stdout",
     "output_type": "stream",
     "text": [
      "Detected splits in this directory. Loading splits ...\n",
      "Thread 0: Base Seed 10, Seed: 10, Random Number: 601088376405717203\n",
      "\n",
      "Setting manual seed 10 for single-thread\n",
      "Cross validating split 1 against the other 4 splits\n",
      "Beginning model fit pre-processing: log-likelihood estimation\n"
     ]
    },
    {
     "name": "stderr",
     "output_type": "stream",
     "text": [
      "  0%|          | 0/10 [00:00<?, ?it/s]"
     ]
    },
    {
     "name": "stderr",
     "output_type": "stream",
     "text": [
      " 10%|█         | 1/10 [00:01<00:15,  1.68s/it]"
     ]
    },
    {
     "name": "stdout",
     "output_type": "stream",
     "text": [
      "\tTime taken: 1.685272216796875 since Start, 1.6827397346496582 since Loop\n"
     ]
    },
    {
     "name": "stderr",
     "output_type": "stream",
     "text": [
      " 20%|██        | 2/10 [00:03<00:12,  1.55s/it]"
     ]
    },
    {
     "name": "stdout",
     "output_type": "stream",
     "text": [
      "\tTime taken: 3.1422667503356934 since Start, 1.4543578624725342 since Loop\n"
     ]
    },
    {
     "name": "stderr",
     "output_type": "stream",
     "text": [
      " 30%|███       | 3/10 [00:05<00:13,  1.88s/it]"
     ]
    },
    {
     "name": "stdout",
     "output_type": "stream",
     "text": [
      "\tTime taken: 5.418270826339722 since Start, 2.273815631866455 since Loop\n"
     ]
    },
    {
     "name": "stderr",
     "output_type": "stream",
     "text": [
      " 40%|████      | 4/10 [00:07<00:10,  1.77s/it]"
     ]
    },
    {
     "name": "stdout",
     "output_type": "stream",
     "text": [
      "\tTime taken: 7.007265567779541 since Start, 1.586728811264038 since Loop\n"
     ]
    },
    {
     "name": "stderr",
     "output_type": "stream",
     "text": [
      " 50%|█████     | 5/10 [00:08<00:07,  1.59s/it]"
     ]
    },
    {
     "name": "stdout",
     "output_type": "stream",
     "text": [
      "\tTime taken: 8.288264513015747 since Start, 1.2787487506866455 since Loop\n"
     ]
    },
    {
     "name": "stderr",
     "output_type": "stream",
     "text": [
      " 60%|██████    | 6/10 [00:10<00:06,  1.74s/it]"
     ]
    },
    {
     "name": "stdout",
     "output_type": "stream",
     "text": [
      "\tTime taken: 10.32826852798462 since Start, 2.0378661155700684 since Loop\n"
     ]
    },
    {
     "name": "stderr",
     "output_type": "stream",
     "text": [
      " 70%|███████   | 7/10 [00:12<00:05,  1.85s/it]"
     ]
    },
    {
     "name": "stdout",
     "output_type": "stream",
     "text": [
      "\tTime taken: 12.39227032661438 since Start, 2.0618679523468018 since Loop\n"
     ]
    },
    {
     "name": "stderr",
     "output_type": "stream",
     "text": [
      " 80%|████████  | 8/10 [00:13<00:03,  1.72s/it]"
     ]
    },
    {
     "name": "stdout",
     "output_type": "stream",
     "text": [
      "\tTime taken: 13.82327151298523 since Start, 1.4288158416748047 since Loop\n"
     ]
    },
    {
     "name": "stderr",
     "output_type": "stream",
     "text": [
      " 90%|█████████ | 9/10 [00:15<00:01,  1.73s/it]"
     ]
    },
    {
     "name": "stdout",
     "output_type": "stream",
     "text": [
      "\tTime taken: 15.59626579284668 since Start, 1.7708747386932373 since Loop\n"
     ]
    },
    {
     "name": "stderr",
     "output_type": "stream",
     "text": [
      "100%|██████████| 10/10 [00:16<00:00,  1.66s/it]\n"
     ]
    },
    {
     "name": "stdout",
     "output_type": "stream",
     "text": [
      "\tTime taken: 16.63226580619812 since Start, 1.0338928699493408 since Loop\n"
     ]
    },
    {
     "name": "stderr",
     "output_type": "stream",
     "text": [
      "100%|██████████| 24/24 [00:00<00:00, 8437.83it/s]"
     ]
    },
    {
     "name": "stdout",
     "output_type": "stream",
     "text": [
      "[4. 4. 2. 2. 4. 1. 5. 5. 1. 1. 5. 3. 4. 4. 1. 3. 4. 5. 2. 4. 5. 3. 2. 5.]\n"
     ]
    },
    {
     "name": "stderr",
     "output_type": "stream",
     "text": [
      "\n"
     ]
    },
    {
     "name": "stdout",
     "output_type": "stream",
     "text": [
      "\tTime taken: 19.545300722122192 since Start, 2.698770046234131 since Loop\n",
      "\t[0] NLL: 59.1321 Params: [2.001, 0.02, 0.2, 0.05, 1.2, 0.801, 1.001, 0.4, 3.501, 5.0]\n",
      "Beginning optimization of a STOCHASTIC objective function\n",
      "\n",
      " Iteration    f-count      E[f(x)]        SD[f(x)]           MeshScale          Method              Actions\n",
      "     0           1         59.1321             nan               1                                  \n",
      "\tTime taken: 20.124260663986206 since Start, 0.5718865394592285 since Loop\n",
      "\t[1] NLL: 76.8565 Params: [1.053, 0.68, 0.147, 0.292, 0.539, 0.952, -1.899, -1.372, -4.072, -3.799]\n",
      "\tTime taken: 38.2952995300293 since Start, 18.169737339019775 since Loop\n",
      "\t[2] NLL: 69.9426 Params: [1.334, 0.294, 0.414, 0.005, 1.939, -4.663, -4.106, 4.424, -3.281, 2.393]\n",
      "\tTime taken: 39.21727728843689 since Start, 0.9200358390808105 since Loop\n",
      "\t[3] NLL: 80.3261 Params: [1.632, 0.782, 0.037, 0.156, 1.082, -3.052, 3.237, 1.782, -0.542, -3.545]\n",
      "\tTime taken: 39.775266885757446 since Start, 0.5558829307556152 since Loop\n",
      "\t[4] NLL: 70.7957 Params: [1.913, 0.396, 0.272, 0.423, 1.346, 1.294, 0.444, -4.99, -2.114, 0.264]\n",
      "\tTime taken: 40.00126504898071 since Start, 0.22377586364746094 since Loop\n",
      "\t[5] NLL: 51.8996 Params: [2.396, 0.624, 0.304, 0.122, 1.769, -2.373, 1.753, -1.235, 2.314, -0.088]\n",
      "\tTime taken: 41.29126310348511 since Start, 1.2879936695098877 since Loop\n",
      "\t[6] NLL: 81.272 Params: [2.677, 0.127, 0.006, 0.331, 0.755, 3.271, 4.585, 3.037, 0.02, 3.682]\n",
      "\tTime taken: 41.90426230430603 since Start, 0.611210823059082 since Loop\n",
      "\t[7] NLL: 81.5743 Params: [2.958, 0.95, 0.381, 0.446, 1.61, 4.17, -3.071, 0.669, 3.696, -2.256]\n",
      "\tTime taken: 42.727264165878296 since Start, 0.8212132453918457 since Loop\n",
      "\t[8] NLL: 77.3788 Params: [3.239, 0.452, 0.176, 0.225, 0.96, -0.225, -0.903, -2.627, 3.96, 3.975]\n",
      "\tTime taken: 43.75326704978943 since Start, 1.023963212966919 since Loop\n",
      "\t[9] NLL: 81.4326 Params: [3.375, 0.326, 0.09, 0.276, 1.549, -3.745, -0.22, -3.428, 4.937, -2.988]\n",
      "\tTime taken: 45.28926968574524 since Start, 1.534247875213623 since Loop\n",
      "\t[10] NLL: 81.9846 Params: [3.656, 0.824, 0.354, 0.055, 0.887, 1.909, -3.599, 0.22, 2.72, 0.645]\n",
      "\tTime taken: 46.46626663208008 since Start, 1.1751580238342285 since Loop\n",
      "\t[11] NLL: 71.7938 Params: [3.945, 0.225, 0.23, 0.17, 1.76, 0.376, 4.058, 3.486, 1.074, -4.688]\n",
      "\tTime taken: 46.83731293678284 since Start, 0.3690457344055176 since Loop\n",
      "\t[12] NLL: 67.7813 Params: [4.226, 0.722, 0.462, 0.379, 0.711, -4.009, 2.437, -0.435, 1.26, 1.719]\n",
      "\tTime taken: 48.410264015197754 since Start, 1.5709867477416992 since Loop\n",
      "\t[13] NLL: 81.0133 Params: [4.578, 0.494, 0.493, 0.078, 1.134, 4.824, 1.011, -4.189, -1.763, -1.836]\n",
      "\tTime taken: 48.94512414932251 since Start, 0.5331532955169678 since Loop\n",
      "\t[14] NLL: 76.7666 Params: [4.859, 0.88, 0.199, 0.346, 1.432, -0.801, 2.515, 2.231, -0.894, 4.492]\n"
     ]
    },
    {
     "name": "stderr",
     "output_type": "stream",
     "text": [
      "\n",
      "KeyboardInterrupt\n",
      "\n"
     ]
    },
    {
     "name": "stderr",
     "output_type": "stream",
     "text": [
      "Process ForkPoolWorker-18:\n",
      "Traceback (most recent call last):\n",
      "  File \"/ext3/miniconda3/lib/python3.10/multiprocessing/process.py\", line 314, in _bootstrap\n",
      "    self.run()\n",
      "  File \"/ext3/miniconda3/lib/python3.10/multiprocessing/process.py\", line 108, in run\n",
      "    self._target(*self._args, **self._kwargs)\n",
      "  File \"/ext3/miniconda3/lib/python3.10/multiprocessing/pool.py\", line 125, in worker\n",
      "    result = (True, func(*args, **kwds))\n",
      "  File \"/scratch/hl3976/ma_lab/ninarow/model_fitting/model_fit.py\", line 223, in estimate_log_lik_ibs\n",
      "    search.complete_search()\n",
      "  File \"/scratch/hl3976/ma_lab/ninarow/model_fitting/fourbynine.py\", line 1580, in complete_search\n",
      "    return _swig_fourbynine.AbstractSearch_complete_search(self)\n",
      "KeyboardInterrupt\n"
     ]
    }
   ],
   "source": [
    "from multiprocessing import Pool, Value, set_start_method\n",
    "from prodict import Prodict\n",
    "\n",
    "# first, we have to check to see if all the splits are there ...\n",
    "assert np.all([f\"{i + 1}.csv\" in os.listdir(data_path) for i in range(n_splits)])\n",
    "print(\"Detected splits in this directory. Loading splits ...\")\n",
    "\n",
    "# then we read them in\n",
    "splits = [pd.read_csv(f\"{data_path}/{i + 1}.csv\") for i in range(n_splits)]\n",
    "\n",
    "# we convert every row of our CSV to a \"CSVMove object\" using df_to_CSVMove - we do so for all the splits\n",
    "# CSVMove is a class that is defined in the parsers.py file \n",
    "fold_data = [[csvmove for csvmove in df_to_CSVMove(split, warn = False)] for split in splits]\n",
    "\n",
    "random.seed(10)\n",
    "model_fit.initialize_thread_pool(1, manual_seed = 10)\n",
    "\n",
    "args = Prodict()\n",
    "args.random_sample = False\n",
    "args.verbose = True\n",
    "args.threads = 1\n",
    "\n",
    "model_fitter = ModelFitter(DefaultModel(), args = args)\n",
    "\n",
    "params, loglik_train, loglik_test = model_fitter.cross_validate(fold_data, fold_number - 1)\n"
   ]
  },
  {
   "cell_type": "markdown",
   "id": "8df73ec0",
   "metadata": {},
   "source": [
    "We are now ready to begin running our model. We will begin with the default model and then feed it to our  `ModelFitter` class. Note that this code may take a very long time to run (a couple hours)...\n",
    "\n",
    "If you are using multiple threads and seeing a thread-related error, please make sure to turn OFF `%load_ext autoreload` and `%autoreload 2` from the import statements above"
   ]
  },
  {
   "cell_type": "code",
   "execution_count": 19,
   "id": "d9ea19a9-5155-4b01-b72d-3923b413d76d",
   "metadata": {},
   "outputs": [
    {
     "name": "stdout",
     "output_type": "stream",
     "text": [
      "Detected splits in this directory. Loading splits ...\n",
      "Thread 0: Base Seed 10, Seed: 10, Random Number: 601088376405717203\n",
      "\n"
     ]
    },
    {
     "name": "stdout",
     "output_type": "stream",
     "text": [
      "Setting manual seed 10 for single-thread\n",
      "Cross validating split 1 against the other 4 splits\n",
      "[Preprocessing] Initial log-likelihood estimation\n"
     ]
    },
    {
     "name": "stderr",
     "output_type": "stream",
     "text": [
      " 10%|█         | 1/10 [00:01<00:14,  1.63s/it]"
     ]
    },
    {
     "name": "stdout",
     "output_type": "stream",
     "text": [
      "\tTime taken: 1.6306250095367432 since Start, 1.6260316371917725 since Loop\n"
     ]
    },
    {
     "name": "stderr",
     "output_type": "stream",
     "text": [
      " 20%|██        | 2/10 [00:03<00:12,  1.51s/it]"
     ]
    },
    {
     "name": "stdout",
     "output_type": "stream",
     "text": [
      "\tTime taken: 3.066620349884033 since Start, 1.434668779373169 since Loop\n"
     ]
    },
    {
     "name": "stderr",
     "output_type": "stream",
     "text": [
      " 30%|███       | 3/10 [00:05<00:12,  1.84s/it]"
     ]
    },
    {
     "name": "stdout",
     "output_type": "stream",
     "text": [
      "\tTime taken: 5.304620742797852 since Start, 2.2367162704467773 since Loop\n"
     ]
    },
    {
     "name": "stderr",
     "output_type": "stream",
     "text": [
      " 40%|████      | 4/10 [00:06<00:10,  1.73s/it]"
     ]
    },
    {
     "name": "stdout",
     "output_type": "stream",
     "text": [
      "\tTime taken: 6.869629859924316 since Start, 1.5638072490692139 since Loop\n"
     ]
    },
    {
     "name": "stderr",
     "output_type": "stream",
     "text": [
      " 50%|█████     | 5/10 [00:08<00:07,  1.56s/it]"
     ]
    },
    {
     "name": "stdout",
     "output_type": "stream",
     "text": [
      "\tTime taken: 8.131624698638916 since Start, 1.2608206272125244 since Loop\n"
     ]
    },
    {
     "name": "stderr",
     "output_type": "stream",
     "text": [
      " 60%|██████    | 6/10 [00:10<00:06,  1.71s/it]"
     ]
    },
    {
     "name": "stdout",
     "output_type": "stream",
     "text": [
      "\tTime taken: 10.138623714447021 since Start, 2.0058228969573975 since Loop\n"
     ]
    },
    {
     "name": "stderr",
     "output_type": "stream",
     "text": [
      " 70%|███████   | 7/10 [00:12<00:05,  1.82s/it]"
     ]
    },
    {
     "name": "stdout",
     "output_type": "stream",
     "text": [
      "\tTime taken: 12.175622463226318 since Start, 2.035271406173706 since Loop\n"
     ]
    },
    {
     "name": "stderr",
     "output_type": "stream",
     "text": [
      " 80%|████████  | 8/10 [00:13<00:03,  1.69s/it]"
     ]
    },
    {
     "name": "stdout",
     "output_type": "stream",
     "text": [
      "\tTime taken: 13.587623596191406 since Start, 1.4108095169067383 since Loop\n"
     ]
    },
    {
     "name": "stderr",
     "output_type": "stream",
     "text": [
      " 90%|█████████ | 9/10 [00:15<00:01,  1.71s/it]"
     ]
    },
    {
     "name": "stdout",
     "output_type": "stream",
     "text": [
      "\tTime taken: 15.338619470596313 since Start, 1.7498078346252441 since Loop\n"
     ]
    },
    {
     "name": "stderr",
     "output_type": "stream",
     "text": [
      "100%|██████████| 10/10 [00:16<00:00,  1.64s/it]"
     ]
    },
    {
     "name": "stdout",
     "output_type": "stream",
     "text": [
      "\tTime taken: 16.359619140625 since Start, 1.0196878910064697 since Loop\n"
     ]
    },
    {
     "name": "stderr",
     "output_type": "stream",
     "text": [
      "\n"
     ]
    },
    {
     "name": "stdout",
     "output_type": "stream",
     "text": [
      "\tTime taken: 19.225631952285767 since Start, 2.660083055496216 since Loop\n",
      "\t[0] NLL: 59.1321 Params: [2.001, 0.02, 0.2, 0.05, 1.2, 0.801, 1.001, 0.4, 3.501, 5.0]\n",
      "Beginning optimization of a STOCHASTIC objective function\n",
      "\n",
      " Iteration    f-count      E[f(x)]        SD[f(x)]           MeshScale          Method              Actions\n",
      "     0           1         59.1321             nan               1                                  \n",
      "\tTime taken: 19.741631507873535 since Start, 0.510352373123169 since Loop\n",
      "\t[1] NLL: 76.8565 Params: [1.053, 0.68, 0.147, 0.292, 0.539, 0.952, -1.899, -1.372, -4.072, -3.799]\n",
      "\tTime taken: 36.4666543006897 since Start, 16.724289178848267 since Loop\n",
      "\t[2] NLL: 69.9426 Params: [1.334, 0.294, 0.414, 0.005, 1.939, -4.663, -4.106, 4.424, -3.281, 2.393]\n",
      "\tTime taken: 37.274630546569824 since Start, 0.8056237697601318 since Loop\n",
      "\t[3] NLL: 80.3261 Params: [1.632, 0.782, 0.037, 0.156, 1.082, -3.052, 3.237, 1.782, -0.542, -3.545]\n",
      "\tTime taken: 37.772624015808105 since Start, 0.4973723888397217 since Loop\n",
      "\t[4] NLL: 70.7957 Params: [1.913, 0.396, 0.272, 0.423, 1.346, 1.294, 0.444, -4.99, -2.114, 0.264]\n",
      "\tTime taken: 37.96162724494934 since Start, 0.1884291172027588 since Loop\n",
      "\t[5] NLL: 51.8996 Params: [2.396, 0.624, 0.304, 0.122, 1.769, -2.373, 1.753, -1.235, 2.314, -0.088]\n",
      "\tTime taken: 39.17062282562256 since Start, 1.2084496021270752 since Loop\n",
      "\t[6] NLL: 81.272 Params: [2.677, 0.127, 0.006, 0.331, 0.755, 3.271, 4.585, 3.037, 0.02, 3.682]\n",
      "\tTime taken: 39.705617904663086 since Start, 0.5344760417938232 since Loop\n",
      "\t[7] NLL: 81.5743 Params: [2.958, 0.95, 0.381, 0.446, 1.61, 4.17, -3.071, 0.669, 3.696, -2.256]\n",
      "\tTime taken: 40.45061922073364 since Start, 0.7444732189178467 since Loop\n",
      "\t[8] NLL: 77.3788 Params: [3.239, 0.452, 0.176, 0.225, 0.96, -0.225, -0.903, -2.627, 3.96, 3.975]\n",
      "\tTime taken: 41.40161752700806 since Start, 0.9503228664398193 since Loop\n",
      "\t[9] NLL: 81.4326 Params: [3.375, 0.326, 0.09, 0.276, 1.549, -3.745, -0.22, -3.428, 4.937, -2.988]\n",
      "\tTime taken: 42.772619009017944 since Start, 1.370492935180664 since Loop\n",
      "\t[10] NLL: 81.9846 Params: [3.656, 0.824, 0.354, 0.055, 0.887, 1.909, -3.599, 0.22, 2.72, 0.645]\n",
      "\tTime taken: 43.858620166778564 since Start, 1.0854766368865967 since Loop\n",
      "\t[11] NLL: 71.7938 Params: [3.945, 0.225, 0.23, 0.17, 1.76, 0.376, 4.058, 3.486, 1.074, -4.688]\n",
      "\tTime taken: 44.1856210231781 since Start, 0.3264319896697998 since Loop\n",
      "\t[12] NLL: 67.7813 Params: [4.226, 0.722, 0.462, 0.379, 0.711, -4.009, 2.437, -0.435, 1.26, 1.719]\n",
      "\tTime taken: 45.60861849784851 since Start, 1.422436237335205 since Loop\n",
      "\t[13] NLL: 81.0133 Params: [4.578, 0.494, 0.493, 0.078, 1.134, 4.824, 1.011, -4.189, -1.763, -1.836]\n",
      "\tTime taken: 46.07566547393799 since Start, 0.4665534496307373 since Loop\n",
      "\t[14] NLL: 76.7666 Params: [4.859, 0.88, 0.199, 0.346, 1.432, -0.801, 2.515, 2.231, -0.894, 4.492]\n",
      "\tTime taken: 47.24261975288391 since Start, 1.1662914752960205 since Loop\n",
      "\t[15] NLL: 81.7034 Params: [5.131, 0.168, 0.321, 0.495, 0.558, -1.758, -4.829, 3.975, -2.852, -0.801]\n",
      "\tTime taken: 47.894617795944214 since Start, 0.6514816284179688 since Loop\n",
      "\t[16] NLL: 76.6652 Params: [5.412, 0.554, 0.12, 0.209, 1.97, 2.578, -1.333, -2.173, -4.502, 2.832]\n",
      "\tTime taken: 48.89362359046936 since Start, 0.9983360767364502 since Loop\n",
      "\t[17] NLL: 79.2465 Params: [5.535, 0.531, 0.362, 0.187, 0.801, 0.864, -1.616, -3.848, 2.847, -2.163]\n",
      "\tTime taken: 49.48962163925171 since Start, 0.5954000949859619 since Loop\n",
      "\t[18] NLL: 77.7357 Params: [5.815, 0.917, 0.064, 0.392, 1.627, -4.731, -4.409, 1.909, 4.497, 4.194]\n",
      "\tTime taken: 50.02864933013916 since Start, 0.5384616851806641 since Loop\n",
      "\t[19] NLL: 71.3795 Params: [6.105, 0.187, 0.441, 0.261, 1.008, -2.515, 2.935, 4.219, 1.768, -0.503]\n",
      "\tTime taken: 50.32963180541992 since Start, 0.30022239685058594 since Loop\n",
      "\t[20] NLL: 69.8608 Params: [6.386, 0.573, 0.236, 0.037, 1.47, 1.851, 0.728, -2.437, 0.898, 3.159]\n",
      "\tTime taken: 50.85762143135071 since Start, 0.5272266864776611 since Loop\n",
      "\t[21] NLL: 69.6112 Params: [6.878, 0.363, 0.205, 0.477, 1.892, -1.982, 2.075, -3.672, -1.079, -3.286]\n",
      "\tTime taken: 51.687626361846924 since Start, 0.8294248580932617 since Loop\n",
      "\t[22] NLL: 81.7956 Params: [7.159, 0.86, 0.471, 0.194, 0.679, 3.662, 4.243, 0.483, -1.265, 0.317]\n",
      "\tTime taken: 53.907655000686646 since Start, 2.2194631099700928 since Loop\n",
      "\t[23] NLL: 77.8719 Params: [7.431, 0.244, 0.096, 0.091, 1.3, 3.936, -3.413, 3.145, -4.932, -4.36]\n",
      "\tTime taken: 54.60163235664368 since Start, 0.6930141448974609 since Loop\n",
      "\t[24] NLL: 81.8598 Params: [7.712, 0.741, 0.332, 0.362, 1.224, -0.459, -0.581, -0.112, -2.715, 2.017]\n",
      "\tTime taken: 55.625624895095825 since Start, 1.0233848094940186 since Loop\n",
      "\t[25] NLL: 75.0569 Params: [7.857, 0.643, 0.434, 0.139, 1.291, -3.188, -1.108, -0.874, -3.691, -1.021]\n",
      "\tTime taken: 57.03065252304077 since Start, 1.4043488502502441 since Loop\n",
      "\t[26] NLL: 79.916 Params: [8.138, 0.146, 0.14, 0.41, 1.18, 2.446, -2.729, 2.656, -3.955, 2.739]\n",
      "\tTime taken: 57.36280822753906 since Start, 0.3312654495239258 since Loop\n",
      "\t[27] NLL: 65.6856 Params: [8.419, 0.986, 0.263, 0.307, 1.83, 0.308, 4.927, 0.972, -2.319, -1.313]\n",
      "\tTime taken: 60.23862409591675 since Start, 2.875246286392212 since Loop\n",
      "\t[28] NLL: 77.7339 Params: [8.699, 0.489, 0.063, 0.024, 0.605, -4.097, 1.548, -2.91, -0.024, 4.907]\n",
      "\tTime taken: 60.949623823165894 since Start, 0.7102665901184082 since Loop\n",
      "\t[29] NLL: 82.4937 Params: [9.059, 0.699, 0.031, 0.464, 1.027, 4.57, 0.005, -1.675, 0.547, -4.741]\n",
      "\tTime taken: 61.67662191390991 since Start, 0.7264635562896729 since Loop\n",
      "\t[30] NLL: 76.1995 Params: [9.34, 0.313, 0.294, 0.24, 1.501, -1.016, 3.501, 4.707, 2.119, 1.46]\n",
      "\tTime taken: 63.184619665145874 since Start, 1.5074245929718018 since Loop\n",
      "\t[31] NLL: 78.7161 Params: [9.604, 0.818, 0.172, 0.109, 0.852, -1.387, -3.843, 1.421, 4.067, -2.612]\n",
      "\tTime taken: 63.98662304878235 since Start, 0.8015263080596924 since Loop\n",
      "\t[32] NLL: 78.6431 Params: [9.885, 0.432, 0.404, 0.314, 1.714, 2.988, -2.339, -4.609, 3.276, 1.206]\n",
      "     0          33         51.8996             nan               1          Initial mesh            Initial points\n",
      "\tTime taken: 64.77962446212769 since Start, 0.6432895660400391 since Loop\n",
      "\t[33] NLL: 71.0655 Params: [2.396, 0.624, 0.304, 0.122, 1.769, -2.373, 6.753, -1.235, 2.314, -0.088]\n",
      "\tTime taken: 65.0188512802124 since Start, 0.237260103225708 since Loop\n",
      "\t[34] NLL: 57.8077 Params: [2.396, 0.624, 0.304, 0.122, 2.519, -2.373, 1.753, -1.235, 2.314, -0.088]\n",
      "\tTime taken: 65.72262024879456 since Start, 0.7015914916992188 since Loop\n",
      "\t[35] NLL: 73.7167 Params: [2.396, 0.624, 0.304, 0.122, 1.769, -7.373, 1.753, -1.235, 2.314, -0.088]\n",
      "\tTime taken: 66.09567189216614 since Start, 0.37039947509765625 since Loop\n",
      "\t[36] NLL: 58.8708 Params: [2.396, 0.179, 0.304, 0.122, 1.769, -2.373, 1.753, -1.235, 2.314, -0.088]\n",
      "\tTime taken: 66.56761002540588 since Start, 0.46959710121154785 since Loop\n",
      "\t[37] NLL: 73.6593 Params: [2.396, 0.624, 0.304, 0.122, 1.769, 2.627, 1.753, -1.235, 2.314, -0.088]\n",
      "\tTime taken: 67.70861911773682 since Start, 1.1386771202087402 since Loop\n",
      "\t[38] NLL: 74.9428 Params: [2.396, 0.624, 0.304, 0.122, 1.769, -2.373, 1.753, -1.235, -2.686, -0.088]\n",
      "\tTime taken: 67.90962195396423 since Start, 0.19867348670959473 since Loop\n",
      "\t[39] NLL: 52.9368 Params: [2.396, 0.624, 0.304, 0.122, 1.769, -2.373, 1.753, -1.235, 7.314, -0.088]\n",
      "\tTime taken: 68.15761947631836 since Start, 0.24567198753356934 since Loop\n",
      "\t[40] NLL: 59.4056 Params: [2.396, 0.624, 0.554, 0.122, 1.769, -2.373, 1.753, -1.235, 2.314, -0.088]\n",
      "\tTime taken: 68.3256573677063 since Start, 0.16559648513793945 since Loop\n",
      "\t[41] NLL: 54.5918 Params: [2.396, 0.624, 0.304, 0.122, 1.769, -2.373, 1.753, -1.235, 2.314, 4.912]\n",
      "\tTime taken: 68.57762217521667 since Start, 0.24959349632263184 since Loop\n",
      "\t[42] NLL: 50.9098 Params: [2.396, 0.624, 0.304, 0.122, 1.769, -2.373, 1.753, -6.235, 2.314, -0.088]\n",
      "\tTime taken: 68.84813213348389 since Start, 0.26819610595703125 since Loop\n",
      "\t[43] NLL: 59.8025 Params: [6.891, 0.624, 0.304, 0.122, 1.769, -2.373, 1.753, -1.235, 2.314, -0.088]\n",
      "\tTime taken: 69.04762005805969 since Start, 0.19711518287658691 since Loop\n",
      "\t[44] NLL: 61.0264 Params: [2.396, 0.624, 0.304, 0.371, 1.769, -2.373, 1.753, -1.235, 2.314, -0.088]\n",
      "\tTime taken: 69.28562259674072 since Start, 0.2356877326965332 since Loop\n",
      "\t[45] NLL: 59.6347 Params: [2.396, 0.624, 0.304, 0.122, 1.769, -2.373, 1.753, -1.235, 2.314, -5.088]\n",
      "\tTime taken: 70.42361855506897 since Start, 1.1356306076049805 since Loop\n",
      "\t[46] NLL: 72.2691 Params: [2.396, 0.624, 0.304, 0.122, 1.769, -2.373, -3.247, -1.235, 2.314, -0.088]\n",
      "\tTime taken: 70.65082550048828 since Start, 0.22469186782836914 since Loop\n",
      "\t[47] NLL: 61.9845 Params: [2.396, 0.624, 0.304, 0.122, 1.019, -2.373, 1.753, -1.235, 2.314, -0.088]\n",
      "\tTime taken: 71.17861986160278 since Start, 0.525414228439331 since Loop\n",
      "\t[48] NLL: 80.5213 Params: [2.396, 0.624, 0.304, 0.122, 1.769, -2.373, 1.753, 3.765, 2.314, -0.088]\n",
      "\tTime taken: 71.44723176956177 since Start, 0.2663612365722656 since Loop\n",
      "\t[49] NLL: 63.5786 Params: [2.396, 0.624, 0.055, 0.122, 1.769, -2.373, 1.753, -1.235, 2.314, -0.088]\n",
      "     0          50         51.8996               1             0.5          Refine grid             Train\n",
      "\tTime taken: 71.71662330627441 since Start, 0.2419114112854004 since Loop\n",
      "\t[50] NLL: 58.0048 Params: [1.567, 0.7, 0.264, 0.028, 1.924, -1.722, 1.628, -3.75, 3.81, 0.603]\n",
      "\tTime taken: 72.02996158599854 since Start, 0.28997039794921875 since Loop\n",
      "\t[51] NLL: 58.8865 Params: [1.475, 0.694, 0.335, 0.135, 1.775, -2.788, 1.326, -3.151, 3.138, 0.021]\n",
      "\tTime taken: 72.24338555335999 since Start, 0.1900017261505127 since Loop\n",
      "\t[52] NLL: 60.4807 Params: [2.372, 0.669, 0.28, 0.158, 1.809, -1.797, 2.666, -2.391, 2.902, -0.435]\n",
      "\tTime taken: 72.43462371826172 since Start, 0.16557860374450684 since Loop\n",
      "\t[53] NLL: 53.0697 Params: [2.816, 0.652, 0.311, 0.13, 1.69, -2.25, 1.99, -2.228, 2.834, -0.054]\n",
      "\tTime taken: 72.73062562942505 since Start, 0.1832728385925293 since Loop\n",
      "\t[54] NLL: 56.5578 Params: [2.141, 0.645, 0.298, 0.114, 1.811, -2.502, 2.006, -1.528, 2.98, -0.06]\n",
      "\tTime taken: 72.94578886032104 since Start, 0.19153642654418945 since Loop\n",
      "\t[55] NLL: 53.7512 Params: [2.289, 0.629, 0.311, 0.124, 1.76, -2.35, 1.713, -1.232, 2.662, 0.16]\n",
      "\tTime taken: 73.17862129211426 since Start, 0.20950984954833984 since Loop\n",
      "\t[56] NLL: 59.6012 Params: [2.237, 0.63, 0.312, 0.126, 1.794, -2.262, 1.702, -1.254, 2.461, -0.018]\n",
      "\tTime taken: 73.40294075012207 since Start, 0.2004091739654541 since Loop\n",
      "\t[57] NLL: 57.3614 Params: [2.489, 0.607, 0.306, 0.127, 1.772, -2.374, 1.737, -1.238, 2.429, 0.142]\n",
      "\tTime taken: 73.60564708709717 since Start, 0.17752861976623535 since Loop\n",
      "\t[58] NLL: 55.2467 Params: [2.382, 0.634, 0.3, 0.121, 1.781, -2.344, 1.821, -1.407, 2.416, -0.063]\n",
      "\tTime taken: 73.821622133255 since Start, 0.18994355201721191 since Loop\n",
      "\t[59] NLL: 56.9989 Params: [2.396, 0.625, 0.304, 0.123, 1.77, -2.38, 1.758, -1.251, 2.423, 0.032]\n",
      "\tTime taken: 74.11190581321716 since Start, 0.2805671691894531 since Loop\n",
      "\t[60] NLL: 53.6814 Params: [2.396, 0.624, 0.304, 0.122, 1.769, -2.373, 1.753, -1.235, 4.814, -0.088]\n",
      "\tTime taken: 74.32887077331543 since Start, 0.21452951431274414 since Loop\n",
      "\t[61] NLL: 56.8886 Params: [2.396, 0.624, 0.304, 0.122, 1.769, -2.373, 1.753, -3.735, 2.314, -0.088]\n",
      "\tTime taken: 74.56962299346924 since Start, 0.23816227912902832 since Loop\n",
      "\t[62] NLL: 60.7099 Params: [2.396, 0.847, 0.304, 0.122, 1.769, -2.373, 1.753, -1.235, 2.314, -0.088]\n",
      "\tTime taken: 74.82262086868286 since Start, 0.2505528926849365 since Loop\n",
      "\t[63] NLL: 51.3872 Params: [2.396, 0.624, 0.304, 0.122, 1.769, -2.373, 1.753, -1.235, 2.314, 2.412]\n",
      "\tTime taken: 75.13961815834045 since Start, 0.3145179748535156 since Loop\n",
      "\t[64] NLL: 58.2775 Params: [2.396, 0.402, 0.304, 0.122, 1.769, -2.373, 1.753, -1.235, 2.314, -0.088]\n",
      "\tTime taken: 75.37761211395264 since Start, 0.2355341911315918 since Loop\n",
      "\t[65] NLL: 62.8932 Params: [2.396, 0.624, 0.429, 0.122, 1.769, -2.373, 1.753, -1.235, 2.314, -0.088]\n",
      "\tTime taken: 75.66461968421936 since Start, 0.28453540802001953 since Loop\n",
      "\t[66] NLL: 61.1849 Params: [2.396, 0.624, 0.304, 0.122, 1.769, 0.127, 1.753, -1.235, 2.314, -0.088]\n",
      "\tTime taken: 76.0126211643219 since Start, 0.3455371856689453 since Loop\n",
      "\t[67] NLL: 56.6753 Params: [4.643, 0.624, 0.304, 0.122, 1.769, -2.373, 1.753, -1.235, 2.314, -0.088]\n",
      "\tTime taken: 76.20162272453308 since Start, 0.18653583526611328 since Loop\n",
      "\t[68] NLL: 51.9434 Params: [2.396, 0.624, 0.304, 0.122, 2.144, -2.373, 1.753, -1.235, 2.314, -0.088]\n",
      "\tTime taken: 76.3966236114502 since Start, 0.19254660606384277 since Loop\n",
      "\t[69] NLL: 50.501 Params: [2.396, 0.624, 0.179, 0.122, 1.769, -2.373, 1.753, -1.235, 2.314, -0.088]\n",
      "\tTime taken: 76.61488270759583 since Start, 0.21576881408691406 since Loop\n",
      "\t[70] NLL: 58.0313 Params: [0.148, 0.624, 0.304, 0.122, 1.769, -2.373, 1.753, -1.235, 2.314, -0.088]\n",
      "\tTime taken: 76.82838702201843 since Start, 0.21101975440979004 since Loop\n",
      "\t[71] NLL: 57.8732 Params: [2.396, 0.624, 0.304, 0.247, 1.769, -2.373, 1.753, -1.235, 2.314, -0.088]\n",
      "\tTime taken: 77.27863430976868 since Start, 0.44773316383361816 since Loop\n",
      "\t[72] NLL: 63.5531 Params: [2.396, 0.624, 0.304, 0.122, 1.769, -4.873, 1.753, -1.235, 2.314, -0.088]\n",
      "\tTime taken: 77.48762273788452 since Start, 0.20646214485168457 since Loop\n",
      "\t[73] NLL: 59.0392 Params: [2.396, 0.624, 0.304, 0.122, 1.769, -2.373, 1.753, -1.235, 2.314, -2.588]\n",
      "\tTime taken: 77.76261901855469 since Start, 0.27250027656555176 since Loop\n",
      "\t[74] NLL: 60.3278 Params: [2.396, 0.624, 0.304, 0.122, 1.394, -2.373, 1.753, -1.235, 2.314, -0.088]\n",
      "\tTime taken: 78.19064164161682 since Start, 0.3567211627960205 since Loop\n",
      "\t[75] NLL: 68.1827 Params: [2.396, 0.624, 0.304, 0.122, 1.769, -2.373, 4.253, -1.235, 2.314, -0.088]\n",
      "\tTime taken: 78.34761881828308 since Start, 0.15483593940734863 since Loop\n",
      "\t[76] NLL: 61.1599 Params: [2.396, 0.624, 0.304, 0.122, 1.769, -2.373, 1.753, 1.265, 2.314, -0.088]\n",
      "\tTime taken: 79.30161666870117 since Start, 0.9517378807067871 since Loop\n",
      "\t[77] NLL: 75.6317 Params: [2.396, 0.624, 0.304, 0.122, 1.769, -2.373, 1.753, -1.235, -0.186, -0.088]\n",
      "\tTime taken: 80.1006326675415 since Start, 0.7965536117553711 since Loop\n",
      "\t[78] NLL: 76.3263 Params: [2.396, 0.624, 0.304, 0.122, 1.769, -2.373, -0.747, -1.235, 2.314, -0.088]\n",
      "     1          79         51.8996               1            0.25          Refine grid             Train\n",
      "\tTime taken: 80.30262112617493 since Start, 0.16199970245361328 since Loop\n",
      "\t[79] NLL: 49.059 Params: [1.644, 0.573, 0.26, 0.057, 1.787, -2.536, 1.288, -1.175, 3.232, 1.151]\n",
      "     2          80         51.1543         1.62421            0.25      Successful search (ES-wcm)        \n",
      "\tTime taken: 80.51962018013 since Start, 0.18036913871765137 since Loop\n",
      "\t[80] NLL: 51.4916 Params: [1.572, 0.571, 0.236, 0.046, 1.888, -2.596, 1.334, -0.679, 4.267, 1.822]\n",
      "     2          81         50.2461         1.59761            0.25      Successful search (ES-wcm)        \n",
      "\tTime taken: 80.72464299201965 since Start, 0.17274832725524902 since Loop\n",
      "\t[81] NLL: 50.3768 Params: [2.613, 0.535, 0.219, 0.026, 1.79, -1.677, 1.541, -0.991, 4.087, 2.589]\n",
      "     2          82         49.6912         1.55441            0.25      Successful search (ES-wcm)        \n",
      "\tTime taken: 81.33062553405762 since Start, 0.573340654373169 since Loop\n",
      "\t[82] NLL: 54.5687 Params: [3.013, 0.566, 0.242, 0.0, 2.126, -2.199, 1.971, -0.8, 4.796, 5.451]\n",
      "\tTime taken: 81.64361310005188 since Start, 0.28185558319091797 since Loop\n",
      "\t[83] NLL: 50.7357 Params: [2.68, 0.541, 0.217, 0.068, 1.904, -2.247, 1.592, -1.919, 4.316, 2.594]\n",
      "\tTime taken: 81.8467915058136 since Start, 0.17193245887756348 since Loop\n",
      "\t[84] NLL: 48.4138 Params: [2.097, 0.5, 0.225, 0.095, 1.76, -1.633, 1.542, -0.952, 4.002, 2.268]\n",
      "     2          85         49.2678         1.25223            0.25      Successful search (ES-wcm)        \n",
      "\tTime taken: 82.08162450790405 since Start, 0.19988441467285156 since Loop\n",
      "\t[85] NLL: 47.0572 Params: [2.251, 0.46, 0.215, 0.151, 1.883, -1.837, 1.546, -0.439, 4.341, 1.531]\n",
      "     2          86         48.7398         1.48174            0.25      Successful search (ES-wcm)        \n",
      "\tTime taken: 82.28661847114563 since Start, 0.17190074920654297 since Loop\n",
      "\t[86] NLL: 51.1431 Params: [2.176, 0.421, 0.232, 0.216, 2.171, -1.422, 1.574, -0.822, 4.929, 2.022]\n",
      "\tTime taken: 82.4816222190857 since Start, 0.16099953651428223 since Loop\n",
      "\t[87] NLL: 53.9635 Params: [2.46, 0.54, 0.221, 0.192, 1.775, -1.946, 1.576, -0.978, 4.549, 2.154]\n",
      "\tTime taken: 82.75562286376953 since Start, 0.24118328094482422 since Loop\n",
      "\t[88] NLL: 50.1825 Params: [1.121, 0.383, 0.205, 0.094, 1.955, -2.048, 1.593, -0.663, 4.234, 0.305]\n",
      "\tTime taken: 83.09762048721313 since Start, 0.31011104583740234 since Loop\n",
      "\t[89] NLL: 56.9909 Params: [2.265, 0.414, 0.254, 0.14, 1.87, -1.998, 1.417, -0.097, 4.684, 1.551]\n",
      "\tTime taken: 83.29512476921082 since Start, 0.16585969924926758 since Loop\n",
      "\t[90] NLL: 43.8491 Params: [2.359, 0.487, 0.211, 0.163, 1.987, -1.63, 1.537, -0.575, 3.726, 1.463]\n",
      "\tTime taken: 83.56564569473267 since Start, 0.2358107566833496 since Loop\n",
      "\t[91] NLL: 47.0304 Params: [2.285, 0.454, 0.2, 0.125, 1.891, -1.718, 1.522, -0.574, 4.127, 1.461]\n",
      "\tTime taken: 83.95362210273743 since Start, 0.3553738594055176 since Loop\n",
      "\t[92] NLL: 47.8004 Params: [2.428, 0.474, 0.213, 0.134, 1.944, -1.744, 1.515, -0.432, 4.128, 1.535]\n",
      "     2          93          48.737        0.847592            0.25      Incremental search (ES-ell)        \n",
      "\tTime taken: 84.20362257957458 since Start, 0.21454572677612305 since Loop\n",
      "\t[93] NLL: 53.839 Params: [2.626, 0.46, 0.202, 0.102, 2.042, -1.699, 1.552, -0.51, 3.574, 1.541]\n",
      "\tTime taken: 84.54661965370178 since Start, 0.31002235412597656 since Loop\n",
      "\t[94] NLL: 55.5862 Params: [2.558, 0.486, 0.206, 0.158, 1.937, -1.654, 1.515, -0.64, 3.875, 0.833]\n",
      "\tTime taken: 84.82675576210022 since Start, 0.24702858924865723 since Loop\n",
      "\t[95] NLL: 50.4177 Params: [2.099, 0.473, 0.208, 0.129, 1.986, -1.739, 1.55, -0.482, 3.923, 2.563]\n",
      "\tTime taken: 85.10203123092651 since Start, 0.18193554878234863 since Loop\n",
      "\t[96] NLL: 49.5467 Params: [2.143, 0.491, 0.217, 0.133, 1.961, -1.638, 1.553, -0.522, 4.123, 1.408]\n",
      "\tTime taken: 85.33429741859436 since Start, 0.1993398666381836 since Loop\n",
      "\t[97] NLL: 52.5132 Params: [2.233, 0.47, 0.214, 0.13, 1.981, -1.718, 1.531, -0.464, 4.087, 1.609]\n",
      "\tTime taken: 85.55479621887207 since Start, 0.18745160102844238 since Loop\n",
      "\t[98] NLL: 49.8712 Params: [2.373, 0.472, 0.213, 0.133, 1.947, -1.746, 1.52, -0.467, 4.072, 1.606]\n",
      "\tTime taken: 85.81828260421753 since Start, 0.2528865337371826 since Loop\n",
      "\t[99] NLL: 51.3083 Params: [2.428, 0.474, 0.213, 0.134, 1.944, -1.744, 1.515, -1.682, 4.128, 1.535]\n",
      "\tTime taken: 86.08962178230286 since Start, 0.264904260635376 since Loop\n",
      "\t[100] NLL: 54.2081 Params: [2.428, 0.474, 0.213, 0.134, 1.944, -1.744, 1.515, -0.432, 2.878, 1.535]\n",
      "\tTime taken: 86.31369948387146 since Start, 0.21793007850646973 since Loop\n",
      "\t[101] NLL: 47.2199 Params: [2.428, 0.474, 0.213, 0.134, 1.944, -2.994, 1.515, -0.432, 4.128, 1.535]\n",
      "\tTime taken: 86.536860704422 since Start, 0.2167050838470459 since Loop\n",
      "\t[102] NLL: 57.0889 Params: [2.428, 0.474, 0.15, 0.134, 1.944, -1.744, 1.515, -0.432, 4.128, 1.535]\n",
      "\tTime taken: 86.81268620491028 since Start, 0.2689967155456543 since Loop\n",
      "\t[103] NLL: 53.3241 Params: [2.428, 0.474, 0.275, 0.134, 1.944, -1.744, 1.515, -0.432, 4.128, 1.535]\n",
      "\tTime taken: 87.00762104988098 since Start, 0.18863296508789062 since Loop\n",
      "\t[104] NLL: 50.6679 Params: [1.304, 0.474, 0.213, 0.134, 1.944, -1.744, 1.515, -0.432, 4.128, 1.535]\n",
      "\tTime taken: 87.28161764144897 since Start, 0.2679164409637451 since Loop\n",
      "\t[105] NLL: 57.7098 Params: [2.428, 0.585, 0.213, 0.134, 1.944, -1.744, 1.515, -0.432, 4.128, 1.535]\n",
      "\tTime taken: 87.5039176940918 since Start, 0.21617913246154785 since Loop\n",
      "\t[106] NLL: 50.2328 Params: [2.428, 0.362, 0.213, 0.134, 1.944, -1.744, 1.515, -0.432, 4.128, 1.535]\n",
      "\tTime taken: 87.65562534332275 since Start, 0.14526033401489258 since Loop\n",
      "\t[107] NLL: 43.1221 Params: [2.428, 0.474, 0.213, 0.072, 1.944, -1.744, 1.515, -0.432, 4.128, 1.535]\n",
      "\tTime taken: 87.82361674308777 since Start, 0.16191411018371582 since Loop\n",
      "\t[108] NLL: 45.2349 Params: [2.428, 0.474, 0.213, 0.134, 1.757, -1.744, 1.515, -0.432, 4.128, 1.535]\n",
      "\tTime taken: 88.05562257766724 since Start, 0.22588539123535156 since Loop\n",
      "\t[109] NLL: 51.2962 Params: [3.551, 0.474, 0.213, 0.134, 1.944, -1.744, 1.515, -0.432, 4.128, 1.535]\n"
     ]
    },
    {
     "name": "stderr",
     "output_type": "stream",
     "text": [
      "\n",
      "KeyboardInterrupt\n",
      "\n"
     ]
    },
    {
     "name": "stderr",
     "output_type": "stream",
     "text": [
      "Process ForkPoolWorker-15:\n",
      "Traceback (most recent call last):\n",
      "  File \"/ext3/miniconda3/lib/python3.10/multiprocessing/process.py\", line 314, in _bootstrap\n",
      "    self.run()\n",
      "  File \"/ext3/miniconda3/lib/python3.10/multiprocessing/process.py\", line 108, in run\n",
      "    self._target(*self._args, **self._kwargs)\n",
      "  File \"/ext3/miniconda3/lib/python3.10/multiprocessing/pool.py\", line 125, in worker\n",
      "    result = (True, func(*args, **kwds))\n",
      "  File \"/scratch/hl3976/ma_lab/ninarow/model_fitting/tree_search.py\", line 258, in parallel_log_likelihood\n",
      "    predicted_move = self.model.predict(board)\n",
      "  File \"/scratch/hl3976/ma_lab/ninarow/model_fitting/tree_search.py\", line 167, in predict\n",
      "    search.complete_search()\n",
      "  File \"/scratch/hl3976/ma_lab/ninarow/model_fitting/fourbynine.py\", line 1580, in complete_search\n",
      "    return _swig_fourbynine.AbstractSearch_complete_search(self)\n",
      "KeyboardInterrupt\n"
     ]
    }
   ],
   "source": [
    "from multiprocessing import Pool, Value, set_start_method\n",
    "from prodict import Prodict\n",
    "\n",
    "# first, we have to check to see if all the splits are there ...\n",
    "assert np.all([f\"{i + 1}.csv\" in os.listdir(data_path) for i in range(n_splits)])\n",
    "print(\"Detected splits in this directory. Loading splits ...\")\n",
    "\n",
    "# then we read them in\n",
    "splits = [pd.read_csv(f\"{data_path}/{i + 1}.csv\") for i in range(n_splits)]\n",
    "\n",
    "# we convert every row of our CSV to a \"CSVMove object\" using df_to_CSVMove - we do so for all the splits\n",
    "# CSVMove is a class that is defined in the parsers.py file \n",
    "fold_data = [[csvmove for csvmove in df_to_CSVMove(split, warn = False)] for split in splits]\n",
    "\n",
    "random.seed(10)\n",
    "initialize_thread_pool(1, manual_seed = 10)\n",
    "\n",
    "args = Prodict()\n",
    "args.random_sample = None\n",
    "args.verbose = True\n",
    "args.threads = 1\n",
    "\n",
    "cross_validate(TreeSearch(), splits, leave_out_idx=fold_number - 1, subsample = args.random_sample, threads = args.threads)"
   ]
  },
  {
   "cell_type": "code",
   "execution_count": 32,
   "id": "8446a9f2",
   "metadata": {},
   "outputs": [
    {
     "name": "stdout",
     "output_type": "stream",
     "text": [
      "Setting manual seed 10 for single-thread\n",
      "Thread 0: Base Seed 10, Seed: 10, Random Number: 601088376405717203\n",
      "\n",
      "[Preprocessing] Initial log-likelihood estimation\n"
     ]
    },
    {
     "name": "stderr",
     "output_type": "stream",
     "text": [
      "100%|██████████| 10/10 [00:05<00:00,  1.78it/s]\n",
      "100%|██████████| 6/6 [00:00<00:00, 14217.98it/s]\n"
     ]
    },
    {
     "name": "stdout",
     "output_type": "stream",
     "text": [
      "[0] NLL: 9.2936 Params: [2.001, 0.02, 0.2, 0.05, 1.2, 0.801, 1.001, 0.4, 3.501, 5.0]\n",
      "Beginning optimization of a STOCHASTIC objective function\n",
      "\n",
      " Iteration    f-count      E[f(x)]        SD[f(x)]           MeshScale          Method              Actions\n",
      "     0           1         9.29357             nan               1                                  \n",
      "[1] NLL: 20.3258 Params: [1.053, 0.68, 0.147, 0.292, 0.539, 0.952, -1.899, -1.372, -4.072, -3.799]\n"
     ]
    },
    {
     "ename": "KeyboardInterrupt",
     "evalue": "",
     "output_type": "error",
     "traceback": [
      "\u001b[0;31m---------------------------------------------------------------------------\u001b[0m",
      "\u001b[0;31mKeyboardInterrupt\u001b[0m                         Traceback (most recent call last)",
      "Cell \u001b[0;32mIn[32], line 10\u001b[0m\n\u001b[1;32m      3\u001b[0m initialize_thread_pool(\u001b[38;5;241m1\u001b[39m, manual_seed \u001b[38;5;241m=\u001b[39m \u001b[38;5;241m10\u001b[39m)\n\u001b[1;32m      5\u001b[0m model_fitter \u001b[38;5;241m=\u001b[39m ModelFitter(DefaultModel(), \n\u001b[1;32m      6\u001b[0m                            random_sample \u001b[38;5;241m=\u001b[39m random_sample, \n\u001b[1;32m      7\u001b[0m                            verbose \u001b[38;5;241m=\u001b[39m verbose, \n\u001b[1;32m      8\u001b[0m                            threads \u001b[38;5;241m=\u001b[39m threads)\n\u001b[0;32m---> 10\u001b[0m \u001b[43mmodel_fitter\u001b[49m\u001b[38;5;241;43m.\u001b[39;49m\u001b[43mfit_model\u001b[49m\u001b[43m(\u001b[49m\u001b[43mfold_data\u001b[49m\u001b[43m[\u001b[49m\u001b[43mfold_number\u001b[49m\u001b[43m \u001b[49m\u001b[38;5;241;43m-\u001b[39;49m\u001b[43m \u001b[49m\u001b[38;5;241;43m1\u001b[39;49m\u001b[43m]\u001b[49m\u001b[43m)\u001b[49m\n",
      "File \u001b[0;32m~/Github/ninarow/model_fitting/model_fit.py:454\u001b[0m, in \u001b[0;36mModelFitter.fit_model\u001b[0;34m(self, moves, bads_options)\u001b[0m\n\u001b[1;32m    451\u001b[0m \u001b[38;5;66;03m# run PyBADS to optimize the initial parameter guesses\u001b[39;00m\n\u001b[1;32m    452\u001b[0m bads \u001b[38;5;241m=\u001b[39m BADS(opt_fun, \u001b[38;5;28mself\u001b[39m\u001b[38;5;241m.\u001b[39mmodel\u001b[38;5;241m.\u001b[39minitial_params, \u001b[38;5;28mself\u001b[39m\u001b[38;5;241m.\u001b[39mmodel\u001b[38;5;241m.\u001b[39mlower_bound, \u001b[38;5;28mself\u001b[39m\u001b[38;5;241m.\u001b[39mmodel\u001b[38;5;241m.\u001b[39mupper_bound, \u001b[38;5;28mself\u001b[39m\u001b[38;5;241m.\u001b[39mmodel\u001b[38;5;241m.\u001b[39mplausible_lower_bound, \u001b[38;5;28mself\u001b[39m\u001b[38;5;241m.\u001b[39mmodel\u001b[38;5;241m.\u001b[39mplausible_upper_bound, options\u001b[38;5;241m=\u001b[39mbads_options)\n\u001b[0;32m--> 454\u001b[0m out_params \u001b[38;5;241m=\u001b[39m \u001b[43mbads\u001b[49m\u001b[38;5;241;43m.\u001b[39;49m\u001b[43moptimize\u001b[49m\u001b[43m(\u001b[49m\u001b[43m)\u001b[49m[\u001b[38;5;124m'\u001b[39m\u001b[38;5;124mx\u001b[39m\u001b[38;5;124m'\u001b[39m]\n\u001b[1;32m    456\u001b[0m \u001b[38;5;28mprint\u001b[39m(\u001b[38;5;124m\"\u001b[39m\u001b[38;5;124m[Fitted Parameters]: \u001b[39m\u001b[38;5;132;01m{}\u001b[39;00m\u001b[38;5;124m\"\u001b[39m\u001b[38;5;241m.\u001b[39mformat(out_params))\n\u001b[1;32m    458\u001b[0m \u001b[38;5;28mprint\u001b[39m(\u001b[38;5;124m\"\u001b[39m\u001b[38;5;124m[Postprocessing] Final log-likelihood estimation\u001b[39m\u001b[38;5;124m\"\u001b[39m)\n",
      "File \u001b[0;32m~/Github/ninarow/.venv/lib/python3.13/site-packages/pybads/bads/bads.py:1171\u001b[0m, in \u001b[0;36mBADS.optimize\u001b[0;34m(self)\u001b[0m\n\u001b[1;32m   1168\u001b[0m \u001b[38;5;28mself\u001b[39m\u001b[38;5;241m.\u001b[39mrestarts \u001b[38;5;241m=\u001b[39m \u001b[38;5;28mself\u001b[39m\u001b[38;5;241m.\u001b[39moptions[\u001b[38;5;124m\"\u001b[39m\u001b[38;5;124mrestarts\u001b[39m\u001b[38;5;124m\"\u001b[39m]\n\u001b[1;32m   1170\u001b[0m \u001b[38;5;66;03m# Initialize gp\u001b[39;00m\n\u001b[0;32m-> 1171\u001b[0m gp, Ns_gp, sn2hpd, hyp_dict \u001b[38;5;241m=\u001b[39m \u001b[38;5;28;43mself\u001b[39;49m\u001b[38;5;241;43m.\u001b[39;49m\u001b[43m_init_optimization_\u001b[49m\u001b[43m(\u001b[49m\u001b[43m)\u001b[49m\n\u001b[1;32m   1173\u001b[0m \u001b[38;5;28mself\u001b[39m\u001b[38;5;241m.\u001b[39msearch_es_hedge \u001b[38;5;241m=\u001b[39m \u001b[38;5;28;01mNone\u001b[39;00m  \u001b[38;5;66;03m# init search hedge to None\u001b[39;00m\n\u001b[1;32m   1175\u001b[0m \u001b[38;5;28;01mif\u001b[39;00m \u001b[38;5;28mself\u001b[39m\u001b[38;5;241m.\u001b[39moptions[\u001b[38;5;124m\"\u001b[39m\u001b[38;5;124moutput_fcn\u001b[39m\u001b[38;5;124m\"\u001b[39m] \u001b[38;5;129;01mis\u001b[39;00m \u001b[38;5;129;01mnot\u001b[39;00m \u001b[38;5;28;01mNone\u001b[39;00m:\n",
      "File \u001b[0;32m~/Github/ninarow/.venv/lib/python3.13/site-packages/pybads/bads/bads.py:1053\u001b[0m, in \u001b[0;36mBADS._init_optimization_\u001b[0;34m(self)\u001b[0m\n\u001b[1;32m   1050\u001b[0m \u001b[38;5;28mself\u001b[39m\u001b[38;5;241m.\u001b[39moptim_state[\u001b[38;5;124m\"\u001b[39m\u001b[38;5;124mrandom_seed\u001b[39m\u001b[38;5;124m\"\u001b[39m] \u001b[38;5;241m=\u001b[39m \u001b[38;5;28mself\u001b[39m\u001b[38;5;241m.\u001b[39m_init_random_seed_()\n\u001b[1;32m   1052\u001b[0m \u001b[38;5;66;03m# Evaluate starting point and initial mesh,\u001b[39;00m\n\u001b[0;32m-> 1053\u001b[0m \u001b[38;5;28;43mself\u001b[39;49m\u001b[38;5;241;43m.\u001b[39;49m\u001b[43m_init_mesh_\u001b[49m\u001b[43m(\u001b[49m\u001b[43m)\u001b[49m\n\u001b[1;32m   1055\u001b[0m \u001b[38;5;66;03m# Change options for uncertainty handling\u001b[39;00m\n\u001b[1;32m   1056\u001b[0m \u001b[38;5;28;01mif\u001b[39;00m \u001b[38;5;28mself\u001b[39m\u001b[38;5;241m.\u001b[39moptim_state[\u001b[38;5;124m\"\u001b[39m\u001b[38;5;124muncertainty_handling_level\u001b[39m\u001b[38;5;124m\"\u001b[39m] \u001b[38;5;241m>\u001b[39m \u001b[38;5;241m0\u001b[39m:\n",
      "File \u001b[0;32m~/Github/ninarow/.venv/lib/python3.13/site-packages/pybads/bads/bads.py:1014\u001b[0m, in \u001b[0;36mBADS._init_mesh_\u001b[0;34m(self)\u001b[0m\n\u001b[1;32m   1003\u001b[0m u1 \u001b[38;5;241m=\u001b[39m contraints_check(\n\u001b[1;32m   1004\u001b[0m     u1,\n\u001b[1;32m   1005\u001b[0m     \u001b[38;5;28mself\u001b[39m\u001b[38;5;241m.\u001b[39moptim_state[\u001b[38;5;124m\"\u001b[39m\u001b[38;5;124mlb_search\u001b[39m\u001b[38;5;124m\"\u001b[39m],\n\u001b[0;32m   (...)\u001b[0m\n\u001b[1;32m   1010\u001b[0m     \u001b[38;5;28mself\u001b[39m\u001b[38;5;241m.\u001b[39mnon_box_cons,\n\u001b[1;32m   1011\u001b[0m )\n\u001b[1;32m   1013\u001b[0m \u001b[38;5;28;01mfor\u001b[39;00m u_idx \u001b[38;5;129;01min\u001b[39;00m \u001b[38;5;28mrange\u001b[39m(\u001b[38;5;28mlen\u001b[39m(u1)):\n\u001b[0;32m-> 1014\u001b[0m     \u001b[38;5;28;43mself\u001b[39;49m\u001b[38;5;241;43m.\u001b[39;49m\u001b[43mfunction_logger\u001b[49m\u001b[43m(\u001b[49m\u001b[43mu1\u001b[49m\u001b[43m[\u001b[49m\u001b[43mu_idx\u001b[49m\u001b[43m]\u001b[49m\u001b[43m)\u001b[49m\n\u001b[1;32m   1016\u001b[0m idx_yval \u001b[38;5;241m=\u001b[39m np\u001b[38;5;241m.\u001b[39margmin(\n\u001b[1;32m   1017\u001b[0m     \u001b[38;5;28mself\u001b[39m\u001b[38;5;241m.\u001b[39mfunction_logger\u001b[38;5;241m.\u001b[39mY[: \u001b[38;5;28mself\u001b[39m\u001b[38;5;241m.\u001b[39mfunction_logger\u001b[38;5;241m.\u001b[39mXn \u001b[38;5;241m+\u001b[39m \u001b[38;5;241m1\u001b[39m]\n\u001b[1;32m   1018\u001b[0m )\n\u001b[1;32m   1019\u001b[0m \u001b[38;5;28mself\u001b[39m\u001b[38;5;241m.\u001b[39mu \u001b[38;5;241m=\u001b[39m \u001b[38;5;28mself\u001b[39m\u001b[38;5;241m.\u001b[39mfunction_logger\u001b[38;5;241m.\u001b[39mX[idx_yval]\u001b[38;5;241m.\u001b[39mcopy()\n",
      "File \u001b[0;32m~/Github/ninarow/.venv/lib/python3.13/site-packages/pybads/function_logger/function_logger.py:120\u001b[0m, in \u001b[0;36mFunctionLogger.__call__\u001b[0;34m(self, x, record_duplicate_data)\u001b[0m\n\u001b[1;32m    118\u001b[0m \u001b[38;5;28;01mtry\u001b[39;00m:\n\u001b[1;32m    119\u001b[0m     timer\u001b[38;5;241m.\u001b[39mstart_timer(\u001b[38;5;124m\"\u001b[39m\u001b[38;5;124mfuntime\u001b[39m\u001b[38;5;124m\"\u001b[39m)\n\u001b[0;32m--> 120\u001b[0m     fun_res \u001b[38;5;241m=\u001b[39m \u001b[38;5;28;43mself\u001b[39;49m\u001b[38;5;241;43m.\u001b[39;49m\u001b[43mfun\u001b[49m\u001b[43m(\u001b[49m\u001b[43mx_orig\u001b[49m\u001b[43m)\u001b[49m\n\u001b[1;32m    121\u001b[0m     timer\u001b[38;5;241m.\u001b[39mstop_timer(\u001b[38;5;124m\"\u001b[39m\u001b[38;5;124mfuntime\u001b[39m\u001b[38;5;124m\"\u001b[39m)\n\u001b[1;32m    122\u001b[0m     \u001b[38;5;28;01mif\u001b[39;00m \u001b[38;5;28mself\u001b[39m\u001b[38;5;241m.\u001b[39mhe_noise_flag:\n",
      "File \u001b[0;32m~/Github/ninarow/model_fitting/model_fit.py:440\u001b[0m, in \u001b[0;36mModelFitter.fit_model.<locals>.opt_fun\u001b[0;34m(x)\u001b[0m\n\u001b[1;32m    436\u001b[0m \u001b[38;5;28;01melse\u001b[39;00m:\n\u001b[1;32m    437\u001b[0m     subsampled_tasks \u001b[38;5;241m=\u001b[39m move_tasks\n\u001b[1;32m    439\u001b[0m log_likelihood \u001b[38;5;241m=\u001b[39m \u001b[38;5;28msum\u001b[39m(\n\u001b[0;32m--> 440\u001b[0m     \u001b[38;5;28mlist\u001b[39m(\u001b[38;5;28;43mself\u001b[39;49m\u001b[38;5;241;43m.\u001b[39;49m\u001b[43mcompute_loglik\u001b[49m\u001b[43m(\u001b[49m\u001b[43msubsampled_tasks\u001b[49m\u001b[43m,\u001b[49m\u001b[43m \u001b[49m\u001b[43mx\u001b[49m\u001b[43m)\u001b[49m\u001b[38;5;241m.\u001b[39mvalues()))\n\u001b[1;32m    442\u001b[0m \u001b[38;5;28;01mif\u001b[39;00m \u001b[38;5;28mself\u001b[39m\u001b[38;5;241m.\u001b[39mverbose:\n\u001b[1;32m    443\u001b[0m     \u001b[38;5;28mprint\u001b[39m(\n\u001b[1;32m    444\u001b[0m         \u001b[38;5;124mf\u001b[39m\u001b[38;5;124m\"\u001b[39m\u001b[38;5;124m[\u001b[39m\u001b[38;5;132;01m{\u001b[39;00mopt_fun\u001b[38;5;241m.\u001b[39mcurrent_iteration_count\u001b[38;5;132;01m}\u001b[39;00m\u001b[38;5;124m] NLL: \u001b[39m\u001b[38;5;132;01m{\u001b[39;00mnp\u001b[38;5;241m.\u001b[39mround(log_likelihood,\u001b[38;5;250m \u001b[39m\u001b[38;5;241m4\u001b[39m)\u001b[38;5;132;01m}\u001b[39;00m\u001b[38;5;124m Params: \u001b[39m\u001b[38;5;132;01m{\u001b[39;00m[np\u001b[38;5;241m.\u001b[39mround(x_,\u001b[38;5;250m \u001b[39m\u001b[38;5;241m3\u001b[39m)\u001b[38;5;250m \u001b[39m\u001b[38;5;28;01mfor\u001b[39;00m\u001b[38;5;250m \u001b[39mx_\u001b[38;5;250m \u001b[39m\u001b[38;5;129;01min\u001b[39;00m\u001b[38;5;250m \u001b[39mx]\u001b[38;5;132;01m}\u001b[39;00m\u001b[38;5;124m\"\u001b[39m)\n",
      "File \u001b[0;32m~/Github/ninarow/model_fitting/model_fit.py:339\u001b[0m, in \u001b[0;36mModelFitter.compute_loglik\u001b[0;34m(self, move_tasks, params)\u001b[0m\n\u001b[1;32m    336\u001b[0m \u001b[38;5;28;01mglobal\u001b[39;00m pool\n\u001b[1;32m    337\u001b[0m results \u001b[38;5;241m=\u001b[39m [pool\u001b[38;5;241m.\u001b[39mapply_async(\n\u001b[1;32m    338\u001b[0m     \u001b[38;5;28mself\u001b[39m\u001b[38;5;241m.\u001b[39mestimate_log_lik_ibs, (params, cutoff, shared_tasks,)) \u001b[38;5;28;01mfor\u001b[39;00m i \u001b[38;5;129;01min\u001b[39;00m \u001b[38;5;28mrange\u001b[39m(\u001b[38;5;28mself\u001b[39m\u001b[38;5;241m.\u001b[39mnum_workers)]\n\u001b[0;32m--> 339\u001b[0m [\u001b[43mresult\u001b[49m\u001b[38;5;241;43m.\u001b[39;49m\u001b[43mget\u001b[49m\u001b[43m(\u001b[49m\u001b[43m)\u001b[49m \u001b[38;5;28;01mfor\u001b[39;00m result \u001b[38;5;129;01min\u001b[39;00m results]\n\u001b[1;32m    341\u001b[0m L_values \u001b[38;5;241m=\u001b[39m {}\n\u001b[1;32m    342\u001b[0m \u001b[38;5;28;01mfor\u001b[39;00m move \u001b[38;5;129;01min\u001b[39;00m shared_tasks:\n",
      "File \u001b[0;32m/usr/local/Cellar/python@3.13/3.13.1/Frameworks/Python.framework/Versions/3.13/lib/python3.13/multiprocessing/pool.py:768\u001b[0m, in \u001b[0;36mApplyResult.get\u001b[0;34m(self, timeout)\u001b[0m\n\u001b[1;32m    767\u001b[0m \u001b[38;5;28;01mdef\u001b[39;00m \u001b[38;5;21mget\u001b[39m(\u001b[38;5;28mself\u001b[39m, timeout\u001b[38;5;241m=\u001b[39m\u001b[38;5;28;01mNone\u001b[39;00m):\n\u001b[0;32m--> 768\u001b[0m     \u001b[38;5;28;43mself\u001b[39;49m\u001b[38;5;241;43m.\u001b[39;49m\u001b[43mwait\u001b[49m\u001b[43m(\u001b[49m\u001b[43mtimeout\u001b[49m\u001b[43m)\u001b[49m\n\u001b[1;32m    769\u001b[0m     \u001b[38;5;28;01mif\u001b[39;00m \u001b[38;5;129;01mnot\u001b[39;00m \u001b[38;5;28mself\u001b[39m\u001b[38;5;241m.\u001b[39mready():\n\u001b[1;32m    770\u001b[0m         \u001b[38;5;28;01mraise\u001b[39;00m \u001b[38;5;167;01mTimeoutError\u001b[39;00m\n",
      "File \u001b[0;32m/usr/local/Cellar/python@3.13/3.13.1/Frameworks/Python.framework/Versions/3.13/lib/python3.13/multiprocessing/pool.py:765\u001b[0m, in \u001b[0;36mApplyResult.wait\u001b[0;34m(self, timeout)\u001b[0m\n\u001b[1;32m    764\u001b[0m \u001b[38;5;28;01mdef\u001b[39;00m \u001b[38;5;21mwait\u001b[39m(\u001b[38;5;28mself\u001b[39m, timeout\u001b[38;5;241m=\u001b[39m\u001b[38;5;28;01mNone\u001b[39;00m):\n\u001b[0;32m--> 765\u001b[0m     \u001b[38;5;28;43mself\u001b[39;49m\u001b[38;5;241;43m.\u001b[39;49m\u001b[43m_event\u001b[49m\u001b[38;5;241;43m.\u001b[39;49m\u001b[43mwait\u001b[49m\u001b[43m(\u001b[49m\u001b[43mtimeout\u001b[49m\u001b[43m)\u001b[49m\n",
      "File \u001b[0;32m/usr/local/Cellar/python@3.13/3.13.1/Frameworks/Python.framework/Versions/3.13/lib/python3.13/threading.py:659\u001b[0m, in \u001b[0;36mEvent.wait\u001b[0;34m(self, timeout)\u001b[0m\n\u001b[1;32m    657\u001b[0m signaled \u001b[38;5;241m=\u001b[39m \u001b[38;5;28mself\u001b[39m\u001b[38;5;241m.\u001b[39m_flag\n\u001b[1;32m    658\u001b[0m \u001b[38;5;28;01mif\u001b[39;00m \u001b[38;5;129;01mnot\u001b[39;00m signaled:\n\u001b[0;32m--> 659\u001b[0m     signaled \u001b[38;5;241m=\u001b[39m \u001b[38;5;28;43mself\u001b[39;49m\u001b[38;5;241;43m.\u001b[39;49m\u001b[43m_cond\u001b[49m\u001b[38;5;241;43m.\u001b[39;49m\u001b[43mwait\u001b[49m\u001b[43m(\u001b[49m\u001b[43mtimeout\u001b[49m\u001b[43m)\u001b[49m\n\u001b[1;32m    660\u001b[0m \u001b[38;5;28;01mreturn\u001b[39;00m signaled\n",
      "File \u001b[0;32m/usr/local/Cellar/python@3.13/3.13.1/Frameworks/Python.framework/Versions/3.13/lib/python3.13/threading.py:359\u001b[0m, in \u001b[0;36mCondition.wait\u001b[0;34m(self, timeout)\u001b[0m\n\u001b[1;32m    357\u001b[0m \u001b[38;5;28;01mtry\u001b[39;00m:    \u001b[38;5;66;03m# restore state no matter what (e.g., KeyboardInterrupt)\u001b[39;00m\n\u001b[1;32m    358\u001b[0m     \u001b[38;5;28;01mif\u001b[39;00m timeout \u001b[38;5;129;01mis\u001b[39;00m \u001b[38;5;28;01mNone\u001b[39;00m:\n\u001b[0;32m--> 359\u001b[0m         \u001b[43mwaiter\u001b[49m\u001b[38;5;241;43m.\u001b[39;49m\u001b[43macquire\u001b[49m\u001b[43m(\u001b[49m\u001b[43m)\u001b[49m\n\u001b[1;32m    360\u001b[0m         gotit \u001b[38;5;241m=\u001b[39m \u001b[38;5;28;01mTrue\u001b[39;00m\n\u001b[1;32m    361\u001b[0m     \u001b[38;5;28;01melse\u001b[39;00m:\n",
      "\u001b[0;31mKeyboardInterrupt\u001b[0m: "
     ]
    }
   ],
   "source": [
    "from model_fit import *\n",
    "random.seed(10)\n",
    "initialize_thread_pool(1, manual_seed = 10)\n",
    "\n",
    "model_fitter = ModelFitter(DefaultModel(), \n",
    "                           random_sample = random_sample, \n",
    "                           verbose = verbose, \n",
    "                           threads = threads)\n",
    "\n",
    "model_fitter.fit_model(fold_data[fold_number - 1])"
   ]
  },
  {
   "cell_type": "markdown",
   "id": "88a6f368",
   "metadata": {},
   "source": [
    "We can examine the fitted model parameters below ..."
   ]
  },
  {
   "cell_type": "code",
   "execution_count": null,
   "id": "75555658",
   "metadata": {},
   "outputs": [],
   "source": [
    "loglik_train_df = pd.DataFrame(loglik_train, columns = [\"loglik_train\"])\n",
    "loglik_test_df = pd.DataFrame(loglik_test, columns = [\"loglik_test\"])\n",
    "\n",
    "print(\"Fitted Model Parameters\")\n",
    "param_df = pd.DataFrame(dict(zip(model_fitter.model.param_names, params), index = [0])).drop(\"index\", axis = 1)\n",
    "param_df"
   ]
  },
  {
   "cell_type": "markdown",
   "id": "8c963c43",
   "metadata": {},
   "source": [
    "## Part 3: Saving Parameters"
   ]
  },
  {
   "cell_type": "markdown",
   "id": "84ae9488",
   "metadata": {},
   "source": [
    "We will save the log likelihood for the train and test folds, as well as the parameters, as `{fold_number}_lltrain.csv`, `{fold_number}_lltest.csv`, and `{fold_number}_params.csv` in the directory specified by `{output_path}`"
   ]
  },
  {
   "cell_type": "code",
   "execution_count": null,
   "id": "cbac9d6f",
   "metadata": {},
   "outputs": [],
   "source": [
    "loglik_train_df.to_csv(f\"{output_path}/{fold_number}_lltrain.csv\", index = False)\n",
    "loglik_test_df.to_csv(f\"{output_path}/{fold_number}_lltest.csv\", index = False)\n",
    "param_df.to_csv(f\"{output_path}/{fold_number}_params.csv\", index = False)"
   ]
  },
  {
   "cell_type": "markdown",
   "id": "f7d58722",
   "metadata": {},
   "source": [
    "# Running an Existing Model"
   ]
  },
  {
   "cell_type": "markdown",
   "id": "8add4056",
   "metadata": {},
   "source": [
    "## Loading the Model Parameters"
   ]
  },
  {
   "cell_type": "markdown",
   "id": "1414ce28",
   "metadata": {},
   "source": [
    "First, let's load our model parameters in from a csv file ..."
   ]
  },
  {
   "cell_type": "code",
   "execution_count": 5,
   "id": "8492f794",
   "metadata": {},
   "outputs": [],
   "source": [
    "param_path = f\"{output_path}/{fold_number}_params.csv\"\n",
    "param_df = pd.read_csv(param_path)\n",
    "params = param_df.iloc[0].values\n",
    "\n",
    "# set the parameters of the model that will be used in the tree search\n",
    "model = DefaultModel()\n",
    "heuristic = model.create_heuristic(params)"
   ]
  },
  {
   "cell_type": "markdown",
   "id": "47b54e53",
   "metadata": {},
   "source": [
    "## Predicting moves on an example board"
   ]
  },
  {
   "cell_type": "markdown",
   "id": "d24a5a63",
   "metadata": {},
   "source": [
    "Let's start by taking an arbitrary board state and run our model prediction on it ..."
   ]
  },
  {
   "cell_type": "code",
   "execution_count": 6,
   "id": "08b74e8c",
   "metadata": {},
   "outputs": [
    {
     "data": {
      "image/png": "[encoded data removed]",
      "text/plain": [
       "<Figure size 400x300 with 1 Axes>"
      ]
     },
     "metadata": {},
     "output_type": "display_data"
    }
   ],
   "source": [
    "black = 16793616\t\n",
    "white = 12582912\n",
    "show(black, white)\n",
    "\n",
    "# create a fourbynineboard object out of our patterns ...\n",
    "board = fourbynine_board(fourbynine_pattern(black), fourbynine_pattern(white))"
   ]
  },
  {
   "cell_type": "code",
   "execution_count": 7,
   "id": "dc6c93a1",
   "metadata": {},
   "outputs": [],
   "source": [
    "search = model.create_search(params, heuristic, board)\n",
    "search.complete_search()\n",
    "best_move_index = heuristic.get_best_move(search.get_tree()).board_position"
   ]
  },
  {
   "cell_type": "code",
   "execution_count": 8,
   "id": "1a76abc6",
   "metadata": {},
   "outputs": [
    {
     "name": "stdout",
     "output_type": "stream",
     "text": [
      "Predicted Move shown in BLUE\n"
     ]
    },
    {
     "data": {
      "image/png": "[encoded data removed]",
      "text/plain": [
       "<Figure size 400x300 with 1 Axes>"
      ]
     },
     "metadata": {},
     "output_type": "display_data"
    }
   ],
   "source": [
    "fig = plt.figure(figsize = (4, 3))\n",
    "ax = plt.subplot(1, 1, 1)\n",
    "\n",
    "show(black, white, existing_fig=(fig, ax))\n",
    "add_circle(best_move_index, existing_fig=(fig, ax), color = \"blue\")\n",
    "print(\"Predicted Move shown in BLUE\")\n"
   ]
  },
  {
   "cell_type": "markdown",
   "id": "ee2e9771",
   "metadata": {},
   "source": [
    "## Make a Heatmap of Predictions from Multiple Searches\n",
    "You might notice that there is noisiness in the behavior of the model. To show how the model behaves over several runs, we'll want to show a heatmap of the different predictions"
   ]
  },
  {
   "cell_type": "code",
   "execution_count": 9,
   "id": "57ecfa4c",
   "metadata": {},
   "outputs": [
    {
     "name": "stderr",
     "output_type": "stream",
     "text": [
      "100%|██████████| 100/100 [00:00<00:00, 106.67it/s]\n"
     ]
    },
    {
     "data": {
      "text/plain": [
       "<matplotlib.image.AxesImage at 0x11da2da90>"
      ]
     },
     "execution_count": 9,
     "metadata": {},
     "output_type": "execute_result"
    },
    {
     "data": {
      "image/png": "[encoded data removed]",
      "text/plain": [
       "<Figure size 400x300 with 1 Axes>"
      ]
     },
     "metadata": {},
     "output_type": "display_data"
    }
   ],
   "source": [
    "n_samples = 100\n",
    "counts = np.zeros(36)\n",
    "for _ in tqdm(range(n_samples), leave=True): \n",
    "    search = model.create_search(params, heuristic, board)\n",
    "    search.complete_search()\n",
    "    best_move_index = heuristic.get_best_move(search.get_tree()).board_position\n",
    "    counts[best_move_index] += 1\n",
    "\n",
    "fig = plt.figure(figsize = (4, 3))\n",
    "ax = plt.subplot(1, 1, 1)\n",
    "show(black, white, existing_fig=(fig, ax))\n",
    "\n",
    "# the [::-1] is to flip the board because of a quirk in the way the board is plotted\n",
    "# you basically have to mirror it over the y-axis (see \"extent\" below)\n",
    "ax.imshow(counts.reshape(4, 9)[::-1], cmap = \"Blues\", extent=[85, 715, -160, -440], alpha = 1)"
   ]
  }
 ],
 "metadata": {
  "kernelspec": {
   "display_name": "singularity",
   "language": "python",
   "name": "my_env"
  },
  "language_info": {
   "codemirror_mode": {
    "name": "ipython",
    "version": 3
   },
   "file_extension": ".py",
   "mimetype": "text/x-python",
   "name": "python",
   "nbconvert_exporter": "python",
   "pygments_lexer": "ipython3",
   "version": "3.10.13"
  }
 },
 "nbformat": 4,
 "nbformat_minor": 5
}
