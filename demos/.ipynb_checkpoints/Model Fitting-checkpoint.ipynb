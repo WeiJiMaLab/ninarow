{
 "cells": [
  {
   "cell_type": "markdown",
   "id": "fe18e5e4-1afd-4949-b2d1-850f76d205e5",
   "metadata": {},
   "source": [
    "# Demo Notebook"
   ]
  },
  {
   "cell_type": "code",
   "execution_count": 12,
   "id": "86eafb54-e8c9-4245-a780-7e5a2d76df6d",
   "metadata": {},
   "outputs": [
    {
     "ename": "ModuleNotFoundError",
     "evalue": "No module named 'model_fit'",
     "output_type": "error",
     "traceback": [
      "\u001b[0;31m---------------------------------------------------------------------------\u001b[0m",
      "\u001b[0;31mModuleNotFoundError\u001b[0m                       Traceback (most recent call last)",
      "Cell \u001b[0;32mIn[12], line 10\u001b[0m\n\u001b[1;32m      8\u001b[0m \u001b[38;5;66;03m# sets the import path to the model-fitting directory\u001b[39;00m\n\u001b[1;32m      9\u001b[0m sys\u001b[38;5;241m.\u001b[39mpath\u001b[38;5;241m.\u001b[39minsert(\u001b[38;5;241m0\u001b[39m, modelfitdir) \n\u001b[0;32m---> 10\u001b[0m \u001b[38;5;28;01mfrom\u001b[39;00m \u001b[38;5;21;01mmodel_fit\u001b[39;00m \u001b[38;5;28;01mimport\u001b[39;00m \u001b[38;5;241m*\u001b[39m\n",
      "\u001b[0;31mModuleNotFoundError\u001b[0m: No module named 'model_fit'"
     ]
    }
   ],
   "source": [
    "# your other imports here ...\n",
    "import sys, os\n",
    "\n",
    "# TODO: replace with your path/to/ninarow\n",
    "ninarowdir = os.path.dirname(os.getcwd())\n",
    "modelfitdir = ninarowdir + \"/model_fitting/\"\n",
    "os.listdir(modelfitdir)\n",
    "\n",
    "# sets the import path to the model-fitting directory\n",
    "sys.path.insert(0, modelfitdir) \n",
    "from model_fit import *\n",
    "\n",
    "# %load_ext autoreload\n",
    "# %autoreload 2"
   ]
  },
  {
   "cell_type": "code",
   "execution_count": 11,
   "id": "1d9be348-d58d-494a-9608-fc89fe900417",
   "metadata": {},
   "outputs": [
    {
     "data": {
      "text/plain": [
       "['/scratch/hl3976/ma_lab/model-fitting/',\n",
       " '/scratch/hl3976/ma_lab/ninarow/model-fitting/',\n",
       " '/scratch/hl3976/ma_lab/ninarow/model-fitting/',\n",
       " '/scratch/hl3976/ma_lab/ninarow/model-fitting/',\n",
       " '/scratch/hl3976/ma_lab/ninarow/model-fitting/',\n",
       " '/scratch/hl3976/ma_lab/ninarow/model-fitting/',\n",
       " '/scratch/hl3976/ma_lab/ninarow/demos',\n",
       " '/ext3/miniconda3/bin',\n",
       " '/ext3/miniconda3/condabin',\n",
       " '/usr/local/nvidia/bin',\n",
       " '/usr/local/cuda/bin',\n",
       " '/usr/local/sbin',\n",
       " '/usr/local/bin',\n",
       " '/usr/sbin',\n",
       " '/usr/bin',\n",
       " '/sbin',\n",
       " '/bin',\n",
       " '/ext3/miniconda3/lib/python310.zip',\n",
       " '/ext3/miniconda3/lib/python3.10',\n",
       " '/ext3/miniconda3/lib/python3.10/lib-dynload',\n",
       " '',\n",
       " '/home/hl3976/.local/lib/python3.10/site-packages',\n",
       " '/ext3/miniconda3/lib/python3.10/site-packages',\n",
       " '/ext3/miniconda3/lib/python3.10/site-packages/PyQt5_sip-12.11.0-py3.10-linux-x86_64.egg']"
      ]
     },
     "execution_count": 11,
     "metadata": {},
     "output_type": "execute_result"
    }
   ],
   "source": [
    "sys.path"
   ]
  },
  {
   "cell_type": "code",
   "execution_count": 45,
   "id": "28873b7c-cbcb-4ebf-9489-f2784b2e2f61",
   "metadata": {},
   "outputs": [],
   "source": [
    "import pandas as pd"
   ]
  },
  {
   "cell_type": "code",
   "execution_count": 53,
   "id": "eba4e82b-27fe-4e19-be47-16477aacefbe",
   "metadata": {},
   "outputs": [],
   "source": [
    "data_path = \"../data/\"\n",
    "df = pd.read_csv(f\"{data_path}/demo_data.csv\")\n",
    "df[\"response_time\"] = 1\n",
    "df[\"participant_id\"] = 1 # in the demo, there is only one participant, but if you have multiple, you may want to change this"
   ]
  },
  {
   "cell_type": "code",
   "execution_count": 54,
   "id": "d5457552-096d-43f3-92c0-6b3efcb66782",
   "metadata": {},
   "outputs": [
    {
     "data": {
      "text/html": [
       "<div>\n",
       "<style scoped>\n",
       "    .dataframe tbody tr th:only-of-type {\n",
       "        vertical-align: middle;\n",
       "    }\n",
       "\n",
       "    .dataframe tbody tr th {\n",
       "        vertical-align: top;\n",
       "    }\n",
       "\n",
       "    .dataframe thead th {\n",
       "        text-align: right;\n",
       "    }\n",
       "</style>\n",
       "<table border=\"1\" class=\"dataframe\">\n",
       "  <thead>\n",
       "    <tr style=\"text-align: right;\">\n",
       "      <th></th>\n",
       "      <th>bp</th>\n",
       "      <th>wp</th>\n",
       "      <th>color</th>\n",
       "      <th>move</th>\n",
       "      <th>response_time</th>\n",
       "      <th>participant_id</th>\n",
       "    </tr>\n",
       "  </thead>\n",
       "  <tbody>\n",
       "    <tr>\n",
       "      <th>0</th>\n",
       "      <td>16</td>\n",
       "      <td>0</td>\n",
       "      <td>White</td>\n",
       "      <td>4194304</td>\n",
       "      <td>1</td>\n",
       "      <td>1</td>\n",
       "    </tr>\n",
       "    <tr>\n",
       "      <th>1</th>\n",
       "      <td>16400</td>\n",
       "      <td>4194304</td>\n",
       "      <td>White</td>\n",
       "      <td>8388608</td>\n",
       "      <td>1</td>\n",
       "      <td>1</td>\n",
       "    </tr>\n",
       "    <tr>\n",
       "      <th>2</th>\n",
       "      <td>16793616</td>\n",
       "      <td>12582912</td>\n",
       "      <td>White</td>\n",
       "      <td>2097152</td>\n",
       "      <td>1</td>\n",
       "      <td>1</td>\n",
       "    </tr>\n",
       "  </tbody>\n",
       "</table>\n",
       "</div>"
      ],
      "text/plain": [
       "         bp        wp  color     move  response_time  participant_id\n",
       "0        16         0  White  4194304              1               1\n",
       "1     16400   4194304  White  8388608              1               1\n",
       "2  16793616  12582912  White  2097152              1               1"
      ]
     },
     "execution_count": 54,
     "metadata": {},
     "output_type": "execute_result"
    }
   ],
   "source": [
    "# INPUT FILE FORMAT should be: \n",
    "    # black_pieces (binary), \n",
    "    # white_pieces (binary), \n",
    "    # player_color (Black/White), \n",
    "    # move (binary), \n",
    "    # response time (not used in fitting), \n",
    "    # [group_id] (optional), \n",
    "    # participant_id\n",
    "    # for more info, see parsers.py\n",
    "\n",
    "df.head(3)[[\"bp\", \"wp\", \"color\", \"move\", \"response_time\", \"participant_id\"]]"
   ]
  },
  {
   "cell_type": "code",
   "execution_count": 42,
   "id": "bf7a05ae-c534-46ac-8723-099d713136ad",
   "metadata": {},
   "outputs": [
    {
     "data": {
      "text/plain": [
       "Index(['curr_move', 'bk_pieces', 'wh_pieces', 'color', 'bp', 'wp', 'move',\n",
       "       'trial_number', 'game_number', 'game_result', 'error_code',\n",
       "       'a_fixation_available', 'b_fixation_start', 'c_computer_register',\n",
       "       'd_move_available', 'e_move_start', 'f_registration_start',\n",
       "       'g_registration_display', 'h_confirmation_start', 'bk_move', 'wh_move',\n",
       "       'confirmation_1', 'confirmation_2', 'confirmation_3', 'confirmation_4',\n",
       "       'beta_B2', 'beta_B3', 'beta_C2', 'beta_C3', 'beta_C4', 'epsilon',\n",
       "       'history_bin', 'block_rate', 'slope', '_28', 'file', 'game_id',\n",
       "       'is_pseudotrial', 'begin_idx', 'end_idx', 'eye_x', 'eye_y', 'filt_x',\n",
       "       'filt_y', 'velocity_xy', 'fixations_x', 'fixations_y',\n",
       "       'fixation_groups', 'theta', 'gaze_hist'],\n",
       "      dtype='object')"
      ]
     },
     "execution_count": 42,
     "metadata": {},
     "output_type": "execute_result"
    }
   ],
   "source": [
    "\n",
    "\n"
   ]
  }
 ],
 "metadata": {
  "kernelspec": {
   "display_name": "singularity",
   "language": "python",
   "name": "my_env"
  },
  "language_info": {
   "codemirror_mode": {
    "name": "ipython",
    "version": 3
   },
   "file_extension": ".py",
   "mimetype": "text/x-python",
   "name": "python",
   "nbconvert_exporter": "python",
   "pygments_lexer": "ipython3",
   "version": "3.10.13"
  }
 },
 "nbformat": 4,
 "nbformat_minor": 5
}
