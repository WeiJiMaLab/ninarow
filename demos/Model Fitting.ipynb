{
 "cells": [
  {
   "cell_type": "markdown",
   "id": "fe18e5e4-1afd-4949-b2d1-850f76d205e5",
   "metadata": {},
   "source": [
    "# Demo Notebook"
   ]
  },
  {
   "cell_type": "code",
   "execution_count": 1,
   "id": "86eafb54-e8c9-4245-a780-7e5a2d76df6d",
   "metadata": {},
   "outputs": [],
   "source": [
    "# your other imports here ...\n",
    "import sys, os\n",
    "import pandas as pd\n",
    "\n",
    "# TODO: replace with your path/to/ninarow\n",
    "ninarowdir = os.path.dirname(os.getcwd())\n",
    "modelfitdir = ninarowdir + \"/model_fitting/\"\n",
    "# os.listdir(modelfitdir)\n",
    "\n",
    "# sets the import path to the model-fitting directory\n",
    "sys.path.insert(0, modelfitdir)\n",
    "from parsers import *\n",
    "from model_fit import *\n",
    "import model_fit\n",
    "\n",
    "# WARNING: DO NOT USE %load_ext autoreload and %autoreload 2 as it interferes with \n",
    "# the Multi-threading processes!"
   ]
  },
  {
   "cell_type": "markdown",
   "id": "ee6157b8-7034-436d-b9bd-955041d96492",
   "metadata": {},
   "source": [
    "## Data Handling"
   ]
  },
  {
   "cell_type": "markdown",
   "id": "341377a9-51b4-44a6-b96d-918d52120dcb",
   "metadata": {},
   "source": [
    "### File Formatting\n",
    "The data columns should be ordered: \n",
    "\n",
    "    - black_pieces (binary), \n",
    "    - white_pieces (binary), \n",
    "    - player_color (Black/White), \n",
    "    - move (binary), \n",
    "    - response time (not used in fitting), \n",
    "    - [group_id] (optional), \n",
    "    - participant_id\n",
    "\n",
    "for more info, see `parsers.py`"
   ]
  },
  {
   "cell_type": "code",
   "execution_count": 2,
   "id": "9a6bf99e-4718-4d74-a625-1ab5746c4c7d",
   "metadata": {},
   "outputs": [],
   "source": [
    "# data_path = \"../data\"\n",
    "# df = pd.read_pickle(f\"{data_path}/data.pkl\")\n",
    "# df[\"response_time\"] = 1\n",
    "# df[\"participant_id\"] = 1 # in the demo, there is only one participant, but if you have multiple, you may want to change this\n",
    "# df[\"black\"] = df[\"bp\"]\n",
    "# df[\"white\"] = df[\"wp\"]\n",
    "# df = df[:10][[\"black\", \"white\", \"color\", \"move\", \"response_time\", \"participant_id\"]]\n",
    "# df.to_csv(f\"{data_path}/data.csv\", index = False)"
   ]
  },
  {
   "cell_type": "code",
   "execution_count": 3,
   "id": "eba4e82b-27fe-4e19-be47-16477aacefbe",
   "metadata": {},
   "outputs": [
    {
     "data": {
      "text/html": [
       "<div>\n",
       "<style scoped>\n",
       "    .dataframe tbody tr th:only-of-type {\n",
       "        vertical-align: middle;\n",
       "    }\n",
       "\n",
       "    .dataframe tbody tr th {\n",
       "        vertical-align: top;\n",
       "    }\n",
       "\n",
       "    .dataframe thead th {\n",
       "        text-align: right;\n",
       "    }\n",
       "</style>\n",
       "<table border=\"1\" class=\"dataframe\">\n",
       "  <thead>\n",
       "    <tr style=\"text-align: right;\">\n",
       "      <th></th>\n",
       "      <th>black</th>\n",
       "      <th>white</th>\n",
       "      <th>color</th>\n",
       "      <th>move</th>\n",
       "      <th>response_time</th>\n",
       "      <th>participant_id</th>\n",
       "    </tr>\n",
       "  </thead>\n",
       "  <tbody>\n",
       "    <tr>\n",
       "      <th>0</th>\n",
       "      <td>16</td>\n",
       "      <td>0</td>\n",
       "      <td>White</td>\n",
       "      <td>4194304</td>\n",
       "      <td>1</td>\n",
       "      <td>1</td>\n",
       "    </tr>\n",
       "    <tr>\n",
       "      <th>1</th>\n",
       "      <td>16400</td>\n",
       "      <td>4194304</td>\n",
       "      <td>White</td>\n",
       "      <td>8388608</td>\n",
       "      <td>1</td>\n",
       "      <td>1</td>\n",
       "    </tr>\n",
       "    <tr>\n",
       "      <th>2</th>\n",
       "      <td>16793616</td>\n",
       "      <td>12582912</td>\n",
       "      <td>White</td>\n",
       "      <td>2097152</td>\n",
       "      <td>1</td>\n",
       "      <td>1</td>\n",
       "    </tr>\n",
       "    <tr>\n",
       "      <th>3</th>\n",
       "      <td>8192</td>\n",
       "      <td>0</td>\n",
       "      <td>White</td>\n",
       "      <td>4194304</td>\n",
       "      <td>1</td>\n",
       "      <td>1</td>\n",
       "    </tr>\n",
       "    <tr>\n",
       "      <th>4</th>\n",
       "      <td>2105344</td>\n",
       "      <td>4194304</td>\n",
       "      <td>White</td>\n",
       "      <td>16</td>\n",
       "      <td>1</td>\n",
       "      <td>1</td>\n",
       "    </tr>\n",
       "  </tbody>\n",
       "</table>\n",
       "</div>"
      ],
      "text/plain": [
       "      black     white  color     move  response_time  participant_id\n",
       "0        16         0  White  4194304              1               1\n",
       "1     16400   4194304  White  8388608              1               1\n",
       "2  16793616  12582912  White  2097152              1               1\n",
       "3      8192         0  White  4194304              1               1\n",
       "4   2105344   4194304  White       16              1               1"
      ]
     },
     "execution_count": 3,
     "metadata": {},
     "output_type": "execute_result"
    }
   ],
   "source": [
    "# TODO: make a folder (here I've called it \"data/\")\n",
    "# which holds your data in a csv called data.csv and put its directory here ...\n",
    "data_path = \"../data\"\n",
    "data_csv = f\"{data_path}/data.csv\"\n",
    "df = pd.read_csv(data_csv)[:10]\n",
    "df.head()"
   ]
  },
  {
   "cell_type": "markdown",
   "id": "4ea38fe5-753a-461b-8465-34e441081345",
   "metadata": {},
   "source": [
    "This is what our data looks like in our CSV ..."
   ]
  },
  {
   "cell_type": "markdown",
   "id": "75098c5f-da02-4539-a9f4-e179edac810d",
   "metadata": {},
   "source": [
    "## Cross Validation Splits"
   ]
  },
  {
   "cell_type": "code",
   "execution_count": 4,
   "id": "4af98f8e-2525-4405-8bc5-c180356314a8",
   "metadata": {},
   "outputs": [
    {
     "name": "stdout",
     "output_type": "stream",
     "text": [
      "Saving split1 to ../data/1.csv\n",
      "Saving split2 to ../data/2.csv\n",
      "Saving split3 to ../data/3.csv\n",
      "Saving split4 to ../data/4.csv\n",
      "Saving split5 to ../data/5.csv\n"
     ]
    },
    {
     "data": {
      "text/html": [
       "<div>\n",
       "<style scoped>\n",
       "    .dataframe tbody tr th:only-of-type {\n",
       "        vertical-align: middle;\n",
       "    }\n",
       "\n",
       "    .dataframe tbody tr th {\n",
       "        vertical-align: top;\n",
       "    }\n",
       "\n",
       "    .dataframe thead th {\n",
       "        text-align: right;\n",
       "    }\n",
       "</style>\n",
       "<table border=\"1\" class=\"dataframe\">\n",
       "  <thead>\n",
       "    <tr style=\"text-align: right;\">\n",
       "      <th></th>\n",
       "      <th>black</th>\n",
       "      <th>white</th>\n",
       "      <th>color</th>\n",
       "      <th>move</th>\n",
       "      <th>response_time</th>\n",
       "      <th>participant_id</th>\n",
       "    </tr>\n",
       "  </thead>\n",
       "  <tbody>\n",
       "    <tr>\n",
       "      <th>0</th>\n",
       "      <td>16793616</td>\n",
       "      <td>12582912</td>\n",
       "      <td>White</td>\n",
       "      <td>2097152</td>\n",
       "      <td>1</td>\n",
       "      <td>1</td>\n",
       "    </tr>\n",
       "    <tr>\n",
       "      <th>1</th>\n",
       "      <td>1073741824</td>\n",
       "      <td>0</td>\n",
       "      <td>White</td>\n",
       "      <td>2097152</td>\n",
       "      <td>1</td>\n",
       "      <td>1</td>\n",
       "    </tr>\n",
       "  </tbody>\n",
       "</table>\n",
       "</div>"
      ],
      "text/plain": [
       "        black     white  color     move  response_time  participant_id\n",
       "0    16793616  12582912  White  2097152              1               1\n",
       "1  1073741824         0  White  2097152              1               1"
      ]
     },
     "execution_count": 4,
     "metadata": {},
     "output_type": "execute_result"
    }
   ],
   "source": [
    "from utils import make_splits\n",
    "splits = make_splits(df, output_dir = data_path)\n",
    "splits[0].head()"
   ]
  },
  {
   "cell_type": "markdown",
   "id": "f16ea3ac-c9f7-4643-b3e2-8d5677b40b99",
   "metadata": {},
   "source": [
    "## Load Data into Model Fitting Code"
   ]
  },
  {
   "cell_type": "markdown",
   "id": "203b120b-c352-420a-81d1-214948793957",
   "metadata": {},
   "source": [
    "The parser takes in a CSV filename and turns it into a list of \n",
    "objects of type CSVMove ..."
   ]
  },
  {
   "cell_type": "code",
   "execution_count": 5,
   "id": "325a7229-8994-4231-ad52-28b9f9243a8d",
   "metadata": {},
   "outputs": [
    {
     "name": "stdout",
     "output_type": "stream",
     "text": [
      "Warning: Column 'reaction_time' not found in DataFrame. Defaulting to 1.0 for all moves.\n",
      "Warning: Column 'group_id' not found in DataFrame. Defaulting to 1 for all moves.\n",
      "16793616\t12582912\tWhite\t2097152\t1.0\t1\t1\n",
      "File is either not a JSON file, or is malformed. Attempting to parse as a CSV...\n",
      "the rows are type <class 'parsers.CSVMove'>\n",
      "and they look like\n",
      "[16793616\t12582912\tWhite\t2097152\t1.0\t1\t1, 1073741824\t0\tWhite\t2097152\t1.0\t1\t1]\n"
     ]
    }
   ],
   "source": [
    "from utils import *\n",
    "print([csvmove for csvmove in df_to_CSVMove(splits[0])][0])\n",
    "\n",
    "data = parse_participant_file(f\"{data_path}/1.csv\", ignore_csv_header = True)\n",
    "print(f\"the rows are type {type(data[0])}\")\n",
    "print(\"and they look like\")\n",
    "print(data[:10])"
   ]
  },
  {
   "cell_type": "markdown",
   "id": "acd44263-aa78-4d10-bd90-c418a692eb05",
   "metadata": {},
   "source": [
    "### Making Cross Validation Splits "
   ]
  },
  {
   "cell_type": "code",
   "execution_count": 6,
   "id": "b4f73bed-2f4f-434b-bbaa-58d756a9ad8c",
   "metadata": {},
   "outputs": [
    {
     "name": "stdout",
     "output_type": "stream",
     "text": [
      "Detected splits in this directory. Loading splits ...\n",
      "Building output directory at ../data/out\n"
     ]
    }
   ],
   "source": [
    "data_path = \"../data\"\n",
    "output_path = \"../data/out\"\n",
    "n_splits = 5\n",
    "fold_number = 1\n",
    "threads = 1\n",
    "random_sample = False\n",
    "verbose = True\n",
    "\n",
    "\n",
    "assert np.all([f\"{i + 1}.csv\" in os.listdir(data_path) for i in range(n_splits)])\n",
    "\n",
    "print(\"Detected splits in this directory. Loading splits ...\")\n",
    "splits = [pd.read_csv(f\"{data_path}/{i + 1}.csv\") for i in range(n_splits)]\n",
    "fold_data = [[csvmove for csvmove in df_to_CSVMove(split, warn = False)] for split in splits]\n",
    "\n",
    "print(f\"Building output directory at {output_path}\")\n",
    "os.makedirs(output_path, exist_ok = True)"
   ]
  },
  {
   "cell_type": "code",
   "execution_count": 15,
   "id": "3efdba8c-a909-47d5-a96f-837a23e688fa",
   "metadata": {},
   "outputs": [
    {
     "ename": "NameError",
     "evalue": "name 'D' is not defined",
     "output_type": "error",
     "traceback": [
      "\u001b[0;31m---------------------------------------------------------------------------\u001b[0m",
      "\u001b[0;31mNameError\u001b[0m                                 Traceback (most recent call last)",
      "Cell \u001b[0;32mIn[15], line 7\u001b[0m\n\u001b[1;32m      4\u001b[0m \u001b[38;5;28;01mdef\u001b[39;00m \u001b[38;5;21mf\u001b[39m(x):\n\u001b[1;32m      5\u001b[0m     \u001b[38;5;28;01mreturn\u001b[39;00m (x \u001b[38;5;241m-\u001b[39m \u001b[38;5;241m2\u001b[39m) \u001b[38;5;241m*\u001b[39m\u001b[38;5;241m*\u001b[39m \u001b[38;5;241m2\u001b[39m\n\u001b[0;32m----> 7\u001b[0m bads \u001b[38;5;241m=\u001b[39m \u001b[43mBADS\u001b[49m\u001b[43m(\u001b[49m\u001b[43mf\u001b[49m\u001b[43m,\u001b[49m\u001b[43m \u001b[49m\u001b[43mx0\u001b[49m\u001b[43m \u001b[49m\u001b[38;5;241;43m=\u001b[39;49m\u001b[43m \u001b[49m\u001b[38;5;241;43m0\u001b[39;49m\u001b[43m)\u001b[49m\n\u001b[1;32m      8\u001b[0m bads\u001b[38;5;241m.\u001b[39moptimize()[\u001b[38;5;124m'\u001b[39m\u001b[38;5;124mx\u001b[39m\u001b[38;5;124m'\u001b[39m]\n",
      "File \u001b[0;32m~/Github/ninarow/.venv/lib/python3.13/site-packages/pybads/bads/bads.py:174\u001b[0m, in \u001b[0;36mBADS.__init__\u001b[0;34m(self, fun, x0, lower_bounds, upper_bounds, plausible_lower_bounds, plausible_upper_bounds, non_box_cons, gamma_uncertain_interval, options)\u001b[0m\n\u001b[1;32m    172\u001b[0m pybads_path \u001b[38;5;241m=\u001b[39m os\u001b[38;5;241m.\u001b[39mpath\u001b[38;5;241m.\u001b[39mdirname(os\u001b[38;5;241m.\u001b[39mpath\u001b[38;5;241m.\u001b[39mrealpath(\u001b[38;5;18m__file__\u001b[39m))\n\u001b[1;32m    173\u001b[0m basic_path \u001b[38;5;241m=\u001b[39m pybads_path \u001b[38;5;241m+\u001b[39m \u001b[38;5;124m\"\u001b[39m\u001b[38;5;124m/option_configs/basic_bads_options.ini\u001b[39m\u001b[38;5;124m\"\u001b[39m\n\u001b[0;32m--> 174\u001b[0m \u001b[38;5;28mself\u001b[39m\u001b[38;5;241m.\u001b[39moptions \u001b[38;5;241m=\u001b[39m \u001b[43mOptions\u001b[49m\u001b[43m(\u001b[49m\n\u001b[1;32m    175\u001b[0m \u001b[43m    \u001b[49m\u001b[43mbasic_path\u001b[49m\u001b[43m,\u001b[49m\n\u001b[1;32m    176\u001b[0m \u001b[43m    \u001b[49m\u001b[43mevaluation_parameters\u001b[49m\u001b[38;5;241;43m=\u001b[39;49m\u001b[43m{\u001b[49m\u001b[38;5;124;43m\"\u001b[39;49m\u001b[38;5;124;43mD\u001b[39;49m\u001b[38;5;124;43m\"\u001b[39;49m\u001b[43m:\u001b[49m\u001b[43m \u001b[49m\u001b[38;5;28;43mself\u001b[39;49m\u001b[38;5;241;43m.\u001b[39;49m\u001b[43mD\u001b[49m\u001b[43m}\u001b[49m\u001b[43m,\u001b[49m\n\u001b[1;32m    177\u001b[0m \u001b[43m    \u001b[49m\u001b[43muser_options\u001b[49m\u001b[38;5;241;43m=\u001b[39;49m\u001b[43moptions\u001b[49m\u001b[43m,\u001b[49m\n\u001b[1;32m    178\u001b[0m \u001b[43m\u001b[49m\u001b[43m)\u001b[49m\n\u001b[1;32m    179\u001b[0m advanced_path \u001b[38;5;241m=\u001b[39m (\n\u001b[1;32m    180\u001b[0m     pybads_path \u001b[38;5;241m+\u001b[39m \u001b[38;5;124m\"\u001b[39m\u001b[38;5;124m/option_configs/advanced_bads_options.ini\u001b[39m\u001b[38;5;124m\"\u001b[39m\n\u001b[1;32m    181\u001b[0m )\n\u001b[1;32m    182\u001b[0m \u001b[38;5;28mself\u001b[39m\u001b[38;5;241m.\u001b[39moptions\u001b[38;5;241m.\u001b[39mload_options_file(\n\u001b[1;32m    183\u001b[0m     advanced_path,\n\u001b[1;32m    184\u001b[0m     evaluation_parameters\u001b[38;5;241m=\u001b[39m{\u001b[38;5;124m\"\u001b[39m\u001b[38;5;124mD\u001b[39m\u001b[38;5;124m\"\u001b[39m: \u001b[38;5;28mself\u001b[39m\u001b[38;5;241m.\u001b[39mD},\n\u001b[1;32m    185\u001b[0m )\n",
      "File \u001b[0;32m~/Github/ninarow/.venv/lib/python3.13/site-packages/pybads/bads/options.py:46\u001b[0m, in \u001b[0;36mOptions.__init__\u001b[0;34m(self, default_options_path, evaluation_parameters, user_options)\u001b[0m\n\u001b[1;32m     43\u001b[0m \u001b[38;5;28mself\u001b[39m[\u001b[38;5;124m\"\u001b[39m\u001b[38;5;124museroptions\u001b[39m\u001b[38;5;124m\"\u001b[39m] \u001b[38;5;241m=\u001b[39m \u001b[38;5;28mset\u001b[39m()\n\u001b[1;32m     45\u001b[0m \u001b[38;5;66;03m# load options from file\u001b[39;00m\n\u001b[0;32m---> 46\u001b[0m \u001b[38;5;28;43mself\u001b[39;49m\u001b[38;5;241;43m.\u001b[39;49m\u001b[43mload_options_file\u001b[49m\u001b[43m(\u001b[49m\u001b[43mdefault_options_path\u001b[49m\u001b[43m,\u001b[49m\u001b[43m \u001b[49m\u001b[43mevaluation_parameters\u001b[49m\u001b[43m)\u001b[49m\n\u001b[1;32m     48\u001b[0m \u001b[38;5;66;03m# User options\u001b[39;00m\n\u001b[1;32m     49\u001b[0m \u001b[38;5;28;01mif\u001b[39;00m user_options \u001b[38;5;129;01mis\u001b[39;00m \u001b[38;5;129;01mnot\u001b[39;00m \u001b[38;5;28;01mNone\u001b[39;00m:\n",
      "File \u001b[0;32m~/Github/ninarow/.venv/lib/python3.13/site-packages/pybads/bads/options.py:116\u001b[0m, in \u001b[0;36mOptions.load_options_file\u001b[0;34m(self, options_path, evaluation_parameters)\u001b[0m\n\u001b[1;32m    114\u001b[0m \u001b[38;5;28;01mfor\u001b[39;00m (key, value, description) \u001b[38;5;129;01min\u001b[39;00m options_list:\n\u001b[1;32m    115\u001b[0m     \u001b[38;5;28;01mif\u001b[39;00m key \u001b[38;5;129;01mnot\u001b[39;00m \u001b[38;5;129;01min\u001b[39;00m \u001b[38;5;28mself\u001b[39m\u001b[38;5;241m.\u001b[39mget(\u001b[38;5;124m\"\u001b[39m\u001b[38;5;124museroptions\u001b[39m\u001b[38;5;124m\"\u001b[39m) \u001b[38;5;129;01mand\u001b[39;00m key \u001b[38;5;241m!=\u001b[39m \u001b[38;5;124m\"\u001b[39m\u001b[38;5;124museroptions\u001b[39m\u001b[38;5;124m\"\u001b[39m:\n\u001b[0;32m--> 116\u001b[0m         \u001b[38;5;28mself\u001b[39m[key] \u001b[38;5;241m=\u001b[39m \u001b[38;5;28;43meval\u001b[39;49m\u001b[43m(\u001b[49m\u001b[43mvalue\u001b[49m\u001b[43m)\u001b[49m\n\u001b[1;32m    117\u001b[0m         \u001b[38;5;28mself\u001b[39m\u001b[38;5;241m.\u001b[39mdescriptions[key] \u001b[38;5;241m=\u001b[39m description\n",
      "File \u001b[0;32m<string>:1\u001b[0m\n",
      "\u001b[0;31mNameError\u001b[0m: name 'D' is not defined"
     ]
    }
   ],
   "source": [
    "# test BADS on a simple optimization problem\n",
    "from pybads import BADS\n",
    "\n",
    "def f(x):\n",
    "    return (x - 2) ** 2\n",
    "\n",
    "bads = BADS(f, x0 = 0)\n",
    "bads.optimize()['x']\n"
   ]
  },
  {
   "cell_type": "code",
   "execution_count": 14,
   "id": "d9ea19a9-5155-4b01-b72d-3923b413d76d",
   "metadata": {},
   "outputs": [
    {
     "name": "stdout",
     "output_type": "stream",
     "text": [
      "Cross validating split 1 against the other 4 splits\n",
      "[Preprocessing] Initial log-likelihood estimation\n"
     ]
    },
    {
     "name": "stderr",
     "output_type": "stream",
     "text": [
      "  0%|          | 0/10 [00:00<?, ?it/s]/Users/jordanlei/Github/ninarow/.venv/lib/python3.13/site-packages/pybads/bads/bads.py:34: SyntaxWarning: invalid escape sequence '\\m'\n",
      "  \"\"\"\n",
      "  0%|          | 0/10 [00:03<?, ?it/s]\n"
     ]
    },
    {
     "ename": "KeyboardInterrupt",
     "evalue": "",
     "output_type": "error",
     "traceback": [
      "\u001b[0;31m---------------------------------------------------------------------------\u001b[0m",
      "\u001b[0;31mKeyboardInterrupt\u001b[0m                         Traceback (most recent call last)",
      "Cell \u001b[0;32mIn[14], line 10\u001b[0m\n\u001b[1;32m      4\u001b[0m initialize_global_threads(\u001b[38;5;241m1\u001b[39m)\n\u001b[1;32m      5\u001b[0m model_fitter \u001b[38;5;241m=\u001b[39m ModelFitter(DefaultModel(), \n\u001b[1;32m      6\u001b[0m                            random_sample \u001b[38;5;241m=\u001b[39m random_sample, \n\u001b[1;32m      7\u001b[0m                            verbose \u001b[38;5;241m=\u001b[39m verbose, \n\u001b[1;32m      8\u001b[0m                            threads \u001b[38;5;241m=\u001b[39m threads)\n\u001b[0;32m---> 10\u001b[0m params, loglik_train, loglik_test \u001b[38;5;241m=\u001b[39m \u001b[43mmodel_fitter\u001b[49m\u001b[38;5;241;43m.\u001b[39;49m\u001b[43mcross_validate\u001b[49m\u001b[43m(\u001b[49m\u001b[43mfold_data\u001b[49m\u001b[43m,\u001b[49m\u001b[43m \u001b[49m\u001b[43mfold_number\u001b[49m\u001b[43m \u001b[49m\u001b[38;5;241;43m-\u001b[39;49m\u001b[43m \u001b[49m\u001b[38;5;241;43m1\u001b[39;49m\u001b[43m)\u001b[49m\n\u001b[1;32m     11\u001b[0m \u001b[38;5;66;03m# with (output_path / (\"params\" + str(i + 1) + \".csv\")).open('w') as f:\u001b[39;00m\n\u001b[1;32m     12\u001b[0m \u001b[38;5;66;03m#     f.write(','.join(str(x) for x in params))\u001b[39;00m\n\u001b[1;32m     13\u001b[0m \u001b[38;5;66;03m# with (output_path / (\"lltrain\" + str(i + 1) + \".csv\")).open('w') as f:\u001b[39;00m\n\u001b[1;32m     14\u001b[0m \u001b[38;5;66;03m#     f.write(','.join(str(x) for x in loglik_train))\u001b[39;00m\n\u001b[1;32m     15\u001b[0m \u001b[38;5;66;03m# with (output_path / (\"lltest\" + str(i + 1) + \".csv\")).open('w') as f:\u001b[39;00m\n\u001b[1;32m     16\u001b[0m \u001b[38;5;66;03m#     f.write(' '.join(str(x) for x in loglik_test) + '\\n')\u001b[39;00m\n",
      "File \u001b[0;32m~/Github/ninarow/model_fitting/model_fit.py:417\u001b[0m, in \u001b[0;36mModelFitter.cross_validate\u001b[0;34m(self, folds, i)\u001b[0m\n\u001b[1;32m    414\u001b[0m         \u001b[38;5;28;01mif\u001b[39;00m i \u001b[38;5;241m!=\u001b[39m j:\n\u001b[1;32m    415\u001b[0m             train\u001b[38;5;241m.\u001b[39mextend(folds[j])\n\u001b[0;32m--> 417\u001b[0m params, loglik_train \u001b[38;5;241m=\u001b[39m \u001b[38;5;28;43mself\u001b[39;49m\u001b[38;5;241;43m.\u001b[39;49m\u001b[43mfit_model\u001b[49m\u001b[43m(\u001b[49m\u001b[43mtrain\u001b[49m\u001b[43m)\u001b[49m\n\u001b[1;32m    418\u001b[0m test_tasks \u001b[38;5;241m=\u001b[39m {}\n\u001b[1;32m    420\u001b[0m \u001b[38;5;28;01mfor\u001b[39;00m move \u001b[38;5;129;01min\u001b[39;00m test:\n",
      "File \u001b[0;32m~/Github/ninarow/model_fitting/model_fit.py:337\u001b[0m, in \u001b[0;36mModelFitter.fit_model\u001b[0;34m(self, moves, bads_options)\u001b[0m\n\u001b[1;32m    328\u001b[0m \u001b[38;5;250m\u001b[39m\u001b[38;5;124;03m\"\"\"\u001b[39;00m\n\u001b[1;32m    329\u001b[0m \u001b[38;5;124;03mGiven a set of moves, find the set of heuristic/search parameters that best fit the observations.\u001b[39;00m\n\u001b[1;32m    330\u001b[0m \n\u001b[0;32m   (...)\u001b[0m\n\u001b[1;32m    333\u001b[0m \u001b[38;5;124;03m@return The set of parameters that best correspond to the given moves, as well as their corresponding L-values.\u001b[39;00m\n\u001b[1;32m    334\u001b[0m \u001b[38;5;124;03m\"\"\"\u001b[39;00m\n\u001b[1;32m    335\u001b[0m \u001b[38;5;28mprint\u001b[39m(\u001b[38;5;124m\"\u001b[39m\u001b[38;5;124m[Preprocessing] Initial log-likelihood estimation\u001b[39m\u001b[38;5;124m\"\u001b[39m)\n\u001b[0;32m--> 337\u001b[0m average_l_values \u001b[38;5;241m=\u001b[39m \u001b[38;5;28;43mself\u001b[39;49m\u001b[38;5;241;43m.\u001b[39;49m\u001b[43mmodel\u001b[49m\u001b[38;5;241;43m.\u001b[39;49m\u001b[43mestimate_initial_l_value_guess\u001b[49m\u001b[43m(\u001b[49m\n\u001b[1;32m    338\u001b[0m \u001b[43m    \u001b[49m\u001b[38;5;28;43mself\u001b[39;49m\u001b[43m,\u001b[49m\u001b[43m \u001b[49m\u001b[43mmoves\u001b[49m\u001b[43m)\u001b[49m\n\u001b[1;32m    339\u001b[0m counts \u001b[38;5;241m=\u001b[39m \u001b[38;5;28mself\u001b[39m\u001b[38;5;241m.\u001b[39mgenerate_attempt_counts(\n\u001b[1;32m    340\u001b[0m     np\u001b[38;5;241m.\u001b[39marray(average_l_values), \u001b[38;5;28mself\u001b[39m\u001b[38;5;241m.\u001b[39mmodel\u001b[38;5;241m.\u001b[39mc)\n\u001b[1;32m    341\u001b[0m move_tasks \u001b[38;5;241m=\u001b[39m {}\n",
      "File \u001b[0;32m~/Github/ninarow/model_fitting/model_fit.py:164\u001b[0m, in \u001b[0;36mDefaultModel.estimate_initial_l_value_guess\u001b[0;34m(self, fitter, moves)\u001b[0m\n\u001b[1;32m    153\u001b[0m \u001b[38;5;28;01mdef\u001b[39;00m \u001b[38;5;21mestimate_initial_l_value_guess\u001b[39m(\u001b[38;5;28mself\u001b[39m, fitter, moves):\n\u001b[1;32m    154\u001b[0m \u001b[38;5;250m    \u001b[39m\u001b[38;5;124;03m\"\"\"\u001b[39;00m\n\u001b[1;32m    155\u001b[0m \u001b[38;5;124;03m    Given a model fitter and a list of moves, estimate initial L-value guesses for each move.\u001b[39;00m\n\u001b[1;32m    156\u001b[0m \n\u001b[0;32m   (...)\u001b[0m\n\u001b[1;32m    162\u001b[0m \u001b[38;5;124;03m        A list of L-values corresponding to each of the given moves.\u001b[39;00m\n\u001b[1;32m    163\u001b[0m \u001b[38;5;124;03m    \"\"\"\u001b[39;00m\n\u001b[0;32m--> 164\u001b[0m     \u001b[38;5;28;01mreturn\u001b[39;00m \u001b[43mfitter\u001b[49m\u001b[38;5;241;43m.\u001b[39;49m\u001b[43mestimate_l_values\u001b[49m\u001b[43m(\u001b[49m\u001b[43mmoves\u001b[49m\u001b[43m,\u001b[49m\u001b[43m \u001b[49m\u001b[38;5;28;43mself\u001b[39;49m\u001b[38;5;241;43m.\u001b[39;49m\u001b[43minitial_params\u001b[49m\u001b[43m,\u001b[49m\u001b[43m \u001b[49m\u001b[38;5;241;43m10\u001b[39;49m\u001b[43m)\u001b[49m\n",
      "File \u001b[0;32m~/Github/ninarow/model_fitting/model_fit.py:311\u001b[0m, in \u001b[0;36mModelFitter.estimate_l_values\u001b[0;34m(self, moves, params, sample_count)\u001b[0m\n\u001b[1;32m    309\u001b[0m l_values \u001b[38;5;241m=\u001b[39m []\n\u001b[1;32m    310\u001b[0m \u001b[38;5;28;01mfor\u001b[39;00m i \u001b[38;5;129;01min\u001b[39;00m tqdm(\u001b[38;5;28mrange\u001b[39m(sample_count)):\n\u001b[0;32m--> 311\u001b[0m     l_values\u001b[38;5;241m.\u001b[39mappend(\u001b[38;5;28;43mself\u001b[39;49m\u001b[38;5;241;43m.\u001b[39;49m\u001b[43mcompute_loglik\u001b[49m\u001b[43m(\u001b[49m\n\u001b[1;32m    312\u001b[0m \u001b[43m        \u001b[49m\u001b[43mmove_tasks\u001b[49m\u001b[43m,\u001b[49m\u001b[43m \u001b[49m\u001b[43mparams\u001b[49m\u001b[43m)\u001b[49m)\n\u001b[1;32m    313\u001b[0m average_l_values \u001b[38;5;241m=\u001b[39m []\n\u001b[1;32m    314\u001b[0m \u001b[38;5;28;01mfor\u001b[39;00m move \u001b[38;5;129;01min\u001b[39;00m tqdm(moves):\n",
      "File \u001b[0;32m~/Github/ninarow/model_fitting/model_fit.py:266\u001b[0m, in \u001b[0;36mModelFitter.compute_loglik\u001b[0;34m(self, move_tasks, params)\u001b[0m\n\u001b[1;32m    263\u001b[0m \u001b[38;5;28;01mglobal\u001b[39;00m pool\n\u001b[1;32m    264\u001b[0m results \u001b[38;5;241m=\u001b[39m [pool\u001b[38;5;241m.\u001b[39mapply_async(\n\u001b[1;32m    265\u001b[0m     \u001b[38;5;28mself\u001b[39m\u001b[38;5;241m.\u001b[39mestimate_log_lik_ibs, (params, cutoff, shared_tasks,)) \u001b[38;5;28;01mfor\u001b[39;00m i \u001b[38;5;129;01min\u001b[39;00m \u001b[38;5;28mrange\u001b[39m(\u001b[38;5;28mself\u001b[39m\u001b[38;5;241m.\u001b[39mnum_workers)]\n\u001b[0;32m--> 266\u001b[0m [\u001b[43mresult\u001b[49m\u001b[38;5;241;43m.\u001b[39;49m\u001b[43mget\u001b[49m\u001b[43m(\u001b[49m\u001b[43m)\u001b[49m \u001b[38;5;28;01mfor\u001b[39;00m result \u001b[38;5;129;01min\u001b[39;00m results]\n\u001b[1;32m    268\u001b[0m L_values \u001b[38;5;241m=\u001b[39m {}\n\u001b[1;32m    269\u001b[0m \u001b[38;5;28;01mfor\u001b[39;00m move \u001b[38;5;129;01min\u001b[39;00m shared_tasks:\n",
      "File \u001b[0;32m/usr/local/Cellar/python@3.13/3.13.1/Frameworks/Python.framework/Versions/3.13/lib/python3.13/multiprocessing/pool.py:768\u001b[0m, in \u001b[0;36mApplyResult.get\u001b[0;34m(self, timeout)\u001b[0m\n\u001b[1;32m    767\u001b[0m \u001b[38;5;28;01mdef\u001b[39;00m \u001b[38;5;21mget\u001b[39m(\u001b[38;5;28mself\u001b[39m, timeout\u001b[38;5;241m=\u001b[39m\u001b[38;5;28;01mNone\u001b[39;00m):\n\u001b[0;32m--> 768\u001b[0m     \u001b[38;5;28;43mself\u001b[39;49m\u001b[38;5;241;43m.\u001b[39;49m\u001b[43mwait\u001b[49m\u001b[43m(\u001b[49m\u001b[43mtimeout\u001b[49m\u001b[43m)\u001b[49m\n\u001b[1;32m    769\u001b[0m     \u001b[38;5;28;01mif\u001b[39;00m \u001b[38;5;129;01mnot\u001b[39;00m \u001b[38;5;28mself\u001b[39m\u001b[38;5;241m.\u001b[39mready():\n\u001b[1;32m    770\u001b[0m         \u001b[38;5;28;01mraise\u001b[39;00m \u001b[38;5;167;01mTimeoutError\u001b[39;00m\n",
      "File \u001b[0;32m/usr/local/Cellar/python@3.13/3.13.1/Frameworks/Python.framework/Versions/3.13/lib/python3.13/multiprocessing/pool.py:765\u001b[0m, in \u001b[0;36mApplyResult.wait\u001b[0;34m(self, timeout)\u001b[0m\n\u001b[1;32m    764\u001b[0m \u001b[38;5;28;01mdef\u001b[39;00m \u001b[38;5;21mwait\u001b[39m(\u001b[38;5;28mself\u001b[39m, timeout\u001b[38;5;241m=\u001b[39m\u001b[38;5;28;01mNone\u001b[39;00m):\n\u001b[0;32m--> 765\u001b[0m     \u001b[38;5;28;43mself\u001b[39;49m\u001b[38;5;241;43m.\u001b[39;49m\u001b[43m_event\u001b[49m\u001b[38;5;241;43m.\u001b[39;49m\u001b[43mwait\u001b[49m\u001b[43m(\u001b[49m\u001b[43mtimeout\u001b[49m\u001b[43m)\u001b[49m\n",
      "File \u001b[0;32m/usr/local/Cellar/python@3.13/3.13.1/Frameworks/Python.framework/Versions/3.13/lib/python3.13/threading.py:659\u001b[0m, in \u001b[0;36mEvent.wait\u001b[0;34m(self, timeout)\u001b[0m\n\u001b[1;32m    657\u001b[0m signaled \u001b[38;5;241m=\u001b[39m \u001b[38;5;28mself\u001b[39m\u001b[38;5;241m.\u001b[39m_flag\n\u001b[1;32m    658\u001b[0m \u001b[38;5;28;01mif\u001b[39;00m \u001b[38;5;129;01mnot\u001b[39;00m signaled:\n\u001b[0;32m--> 659\u001b[0m     signaled \u001b[38;5;241m=\u001b[39m \u001b[38;5;28;43mself\u001b[39;49m\u001b[38;5;241;43m.\u001b[39;49m\u001b[43m_cond\u001b[49m\u001b[38;5;241;43m.\u001b[39;49m\u001b[43mwait\u001b[49m\u001b[43m(\u001b[49m\u001b[43mtimeout\u001b[49m\u001b[43m)\u001b[49m\n\u001b[1;32m    660\u001b[0m \u001b[38;5;28;01mreturn\u001b[39;00m signaled\n",
      "File \u001b[0;32m/usr/local/Cellar/python@3.13/3.13.1/Frameworks/Python.framework/Versions/3.13/lib/python3.13/threading.py:359\u001b[0m, in \u001b[0;36mCondition.wait\u001b[0;34m(self, timeout)\u001b[0m\n\u001b[1;32m    357\u001b[0m \u001b[38;5;28;01mtry\u001b[39;00m:    \u001b[38;5;66;03m# restore state no matter what (e.g., KeyboardInterrupt)\u001b[39;00m\n\u001b[1;32m    358\u001b[0m     \u001b[38;5;28;01mif\u001b[39;00m timeout \u001b[38;5;129;01mis\u001b[39;00m \u001b[38;5;28;01mNone\u001b[39;00m:\n\u001b[0;32m--> 359\u001b[0m         \u001b[43mwaiter\u001b[49m\u001b[38;5;241;43m.\u001b[39;49m\u001b[43macquire\u001b[49m\u001b[43m(\u001b[49m\u001b[43m)\u001b[49m\n\u001b[1;32m    360\u001b[0m         gotit \u001b[38;5;241m=\u001b[39m \u001b[38;5;28;01mTrue\u001b[39;00m\n\u001b[1;32m    361\u001b[0m     \u001b[38;5;28;01melse\u001b[39;00m:\n",
      "\u001b[0;31mKeyboardInterrupt\u001b[0m: "
     ]
    }
   ],
   "source": [
    "from multiprocessing import Pool, Value, set_start_method\n",
    "\n",
    "random.seed(10)\n",
    "initialize_global_threads(1)\n",
    "model_fitter = ModelFitter(DefaultModel(), \n",
    "                           random_sample = random_sample, \n",
    "                           verbose = verbose, \n",
    "                           threads = threads)\n",
    "\n",
    "params, loglik_train, loglik_test = model_fitter.cross_validate(fold_data, fold_number - 1)\n",
    "# with (output_path / (\"params\" + str(i + 1) + \".csv\")).open('w') as f:\n",
    "#     f.write(','.join(str(x) for x in params))\n",
    "# with (output_path / (\"lltrain\" + str(i + 1) + \".csv\")).open('w') as f:\n",
    "#     f.write(','.join(str(x) for x in loglik_train))\n",
    "# with (output_path / (\"lltest\" + str(i + 1) + \".csv\")).open('w') as f:\n",
    "#     f.write(' '.join(str(x) for x in loglik_test) + '\\n')"
   ]
  },
  {
   "cell_type": "code",
   "execution_count": 13,
   "id": "4647d857",
   "metadata": {},
   "outputs": [
    {
     "data": {
      "text/plain": [
       "'/Users/jordanlei/Github/ninarow/demos/~/Github/ninarow/.venv/lib/python3.13/site-packages/pybads/bads'"
      ]
     },
     "execution_count": 13,
     "metadata": {},
     "output_type": "execute_result"
    }
   ],
   "source": [
    "os.path.dirname(os.path.realpath(\"~/Github/ninarow/.venv/lib/python3.13/site-packages/pybads/bads/bads.py\"))"
   ]
  },
  {
   "cell_type": "code",
   "execution_count": null,
   "id": "1ef00352-849c-428b-9424-e4c8bf3b7526",
   "metadata": {},
   "outputs": [],
   "source": [
    "random.seed(10)\n",
    "random.randint(0, 2**64)"
   ]
  },
  {
   "cell_type": "code",
   "execution_count": null,
   "id": "a553b054-0c47-4977-bb63-e634c39f2ff3",
   "metadata": {},
   "outputs": [],
   "source": [
    "random.randint(0, 2**64)"
   ]
  },
  {
   "cell_type": "code",
   "execution_count": null,
   "id": "e7cbc3e5-2e63-4a60-9359-d9f07cd6f3d2",
   "metadata": {},
   "outputs": [],
   "source": [
    "random.seed(10)\n",
    "\n",
    "initialize_pool(Value('d', 0), 1)\n",
    "model_fitter = ModelFitter(DefaultModel(), \n",
    "                           random_sample = random_sample, \n",
    "                           verbose = verbose, \n",
    "                           threads = threads)\n",
    "\n",
    "params, loglik_train, loglik_test = model_fitter.cross_validate(fold_data, fold_number - 1)\n",
    "with (output_path / (\"params\" + str(i + 1) + \".csv\")).open('w') as f:\n",
    "    f.write(','.join(str(x) for x in params))\n",
    "with (output_path / (\"lltrain\" + str(i + 1) + \".csv\")).open('w') as f:\n",
    "    f.write(','.join(str(x) for x in loglik_train))\n",
    "with (output_path / (\"lltest\" + str(i + 1) + \".csv\")).open('w') as f:\n",
    "    f.write(' '.join(str(x) for x in loglik_test) + '\\n')\n",
    "\n",
    "# [1] NLL: 25.4614 Params: [1.053, 0.68, 0.147, 0.292, 0.539, 0.952, -1.899, -1.372, -4.072, -3.799]\n",
    "# [2] NLL: 21.8845 Params: [1.334, 0.294, 0.414, 0.005, 1.939, -4.663, -4.106, 4.424, -3.281, 2.393]\n",
    "# [3] NLL: 24.2337 Params: [1.632, 0.782, 0.037, 0.156, 1.082, -3.052, 3.237, 1.782, -0.542, -3.545]\n",
    "# [4] NLL: 24.5092 Params: [1.913, 0.396, 0.272, 0.423, 1.346, 1.294, 0.444, -4.99, -2.114, 0.264]\n",
    "# [5] NLL: 24.6297 Params: [2.396, 0.624, 0.304, 0.122, 1.769, -2.373, 1.753, -1.235, 2.314, -0.088]\n",
    "# [6] NLL: 23.613 Params: [2.677, 0.127, 0.006, 0.331, 0.755, 3.271, 4.585, 3.037, 0.02, 3.682]\n",
    "# [7] NLL: 17.8836 Params: [2.958, 0.95, 0.381, 0.446, 1.61, 4.17, -3.071, 0.669, 3.696, -2.256]\n",
    "# [8] NLL: 26.7262 Params: [3.239, 0.452, 0.176, 0.225, 0.96, -0.225, -0.903, -2.627, 3.96, 3.975]\n",
    "# [9] NLL: 26.1641 Params: [3.375, 0.326, 0.09, 0.276, 1.549, -3.745, -0.22, -3.428, 4.937, -2.988]\n",
    "# [10] NLL: 21.9883 Params: [3.656, 0.824, 0.354, 0.055, 0.887, 1.909, -3.599, 0.22, 2.72, 0.645]"
   ]
  }
 ],
 "metadata": {
  "kernelspec": {
   "display_name": ".venv",
   "language": "python",
   "name": "python3"
  },
  "language_info": {
   "codemirror_mode": {
    "name": "ipython",
    "version": 3
   },
   "file_extension": ".py",
   "mimetype": "text/x-python",
   "name": "python",
   "nbconvert_exporter": "python",
   "pygments_lexer": "ipython3",
   "version": "3.13.1"
  }
 },
 "nbformat": 4,
 "nbformat_minor": 5
}
