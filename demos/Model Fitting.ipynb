{
 "cells": [
  {
   "cell_type": "markdown",
   "id": "fe18e5e4-1afd-4949-b2d1-850f76d205e5",
   "metadata": {},
   "source": [
    "# Demo Notebook"
   ]
  },
  {
   "cell_type": "code",
   "execution_count": 14,
   "id": "86eafb54-e8c9-4245-a780-7e5a2d76df6d",
   "metadata": {},
   "outputs": [
    {
     "name": "stdout",
     "output_type": "stream",
     "text": [
      "The autoreload extension is already loaded. To reload it, use:\n",
      "  %reload_ext autoreload\n"
     ]
    }
   ],
   "source": [
    "# your other imports here ...\n",
    "import sys, os\n",
    "import pandas as pd\n",
    "\n",
    "# TODO: replace with your path/to/ninarow\n",
    "ninarowdir = os.path.dirname(os.getcwd())\n",
    "modelfitdir = ninarowdir + \"/model_fitting/\"\n",
    "# os.listdir(modelfitdir)\n",
    "\n",
    "# sets the import path to the model-fitting directory\n",
    "sys.path.insert(0, modelfitdir)\n",
    "from parsers import *\n",
    "from model_fit import *\n",
    "\n",
    "%load_ext autoreload\n",
    "%autoreload 2"
   ]
  },
  {
   "cell_type": "markdown",
   "id": "ee6157b8-7034-436d-b9bd-955041d96492",
   "metadata": {},
   "source": [
    "## Data Handling"
   ]
  },
  {
   "cell_type": "markdown",
   "id": "341377a9-51b4-44a6-b96d-918d52120dcb",
   "metadata": {},
   "source": [
    "### File Formatting\n",
    "The data columns should be ordered: \n",
    "\n",
    "    - black_pieces (binary), \n",
    "    - white_pieces (binary), \n",
    "    - player_color (Black/White), \n",
    "    - move (binary), \n",
    "    - response time (not used in fitting), \n",
    "    - [group_id] (optional), \n",
    "    - participant_id\n",
    "\n",
    "for more info, see parsers.py"
   ]
  },
  {
   "cell_type": "code",
   "execution_count": 40,
   "id": "9a6bf99e-4718-4d74-a625-1ab5746c4c7d",
   "metadata": {},
   "outputs": [],
   "source": [
    "data_path = \"../data\"\n",
    "df = pd.read_pickle(f\"{data_path}/data.pkl\")\n",
    "df[\"response_time\"] = 1\n",
    "df[\"participant_id\"] = 1 # in the demo, there is only one participant, but if you have multiple, you may want to change this\n",
    "df[\"black\"] = df[\"bp\"]\n",
    "df[\"white\"] = df[\"wp\"]\n",
    "df = df[[\"black\", \"white\", \"color\", \"move\", \"response_time\", \"participant_id\"]]\n",
    "df.to_csv(f\"{data_path}/data.csv\", index = False)"
   ]
  },
  {
   "cell_type": "code",
   "execution_count": 41,
   "id": "eba4e82b-27fe-4e19-be47-16477aacefbe",
   "metadata": {},
   "outputs": [],
   "source": [
    "# TODO: make a folder called /data and put its directory here ...\n",
    "data_dir = \"../data\"\n",
    "data_csv = f\"{data_dir}/data.csv\"\n",
    "df = pd.read_csv(data_csv)"
   ]
  },
  {
   "cell_type": "markdown",
   "id": "4ea38fe5-753a-461b-8465-34e441081345",
   "metadata": {},
   "source": [
    "This is what our data looks like in our CSV ..."
   ]
  },
  {
   "cell_type": "code",
   "execution_count": 42,
   "id": "c7a729c3-dc73-4114-a74a-96fffe739a0f",
   "metadata": {},
   "outputs": [
    {
     "data": {
      "text/html": [
       "<div>\n",
       "<style scoped>\n",
       "    .dataframe tbody tr th:only-of-type {\n",
       "        vertical-align: middle;\n",
       "    }\n",
       "\n",
       "    .dataframe tbody tr th {\n",
       "        vertical-align: top;\n",
       "    }\n",
       "\n",
       "    .dataframe thead th {\n",
       "        text-align: right;\n",
       "    }\n",
       "</style>\n",
       "<table border=\"1\" class=\"dataframe\">\n",
       "  <thead>\n",
       "    <tr style=\"text-align: right;\">\n",
       "      <th></th>\n",
       "      <th>black</th>\n",
       "      <th>white</th>\n",
       "      <th>color</th>\n",
       "      <th>move</th>\n",
       "      <th>response_time</th>\n",
       "      <th>participant_id</th>\n",
       "    </tr>\n",
       "  </thead>\n",
       "  <tbody>\n",
       "    <tr>\n",
       "      <th>0</th>\n",
       "      <td>16</td>\n",
       "      <td>0</td>\n",
       "      <td>White</td>\n",
       "      <td>4194304</td>\n",
       "      <td>1</td>\n",
       "      <td>1</td>\n",
       "    </tr>\n",
       "    <tr>\n",
       "      <th>1</th>\n",
       "      <td>16400</td>\n",
       "      <td>4194304</td>\n",
       "      <td>White</td>\n",
       "      <td>8388608</td>\n",
       "      <td>1</td>\n",
       "      <td>1</td>\n",
       "    </tr>\n",
       "    <tr>\n",
       "      <th>2</th>\n",
       "      <td>16793616</td>\n",
       "      <td>12582912</td>\n",
       "      <td>White</td>\n",
       "      <td>2097152</td>\n",
       "      <td>1</td>\n",
       "      <td>1</td>\n",
       "    </tr>\n",
       "    <tr>\n",
       "      <th>3</th>\n",
       "      <td>8192</td>\n",
       "      <td>0</td>\n",
       "      <td>White</td>\n",
       "      <td>4194304</td>\n",
       "      <td>1</td>\n",
       "      <td>1</td>\n",
       "    </tr>\n",
       "    <tr>\n",
       "      <th>4</th>\n",
       "      <td>2105344</td>\n",
       "      <td>4194304</td>\n",
       "      <td>White</td>\n",
       "      <td>16</td>\n",
       "      <td>1</td>\n",
       "      <td>1</td>\n",
       "    </tr>\n",
       "  </tbody>\n",
       "</table>\n",
       "</div>"
      ],
      "text/plain": [
       "      black     white  color     move  response_time  participant_id\n",
       "0        16         0  White  4194304              1               1\n",
       "1     16400   4194304  White  8388608              1               1\n",
       "2  16793616  12582912  White  2097152              1               1\n",
       "3      8192         0  White  4194304              1               1\n",
       "4   2105344   4194304  White       16              1               1"
      ]
     },
     "execution_count": 42,
     "metadata": {},
     "output_type": "execute_result"
    }
   ],
   "source": [
    "df.head()"
   ]
  },
  {
   "cell_type": "markdown",
   "id": "75098c5f-da02-4539-a9f4-e179edac810d",
   "metadata": {},
   "source": [
    "## Cross Validation Splits"
   ]
  },
  {
   "cell_type": "code",
   "execution_count": 43,
   "id": "d5457552-096d-43f3-92c0-6b3efcb66782",
   "metadata": {},
   "outputs": [],
   "source": [
    "from utils import make_splits"
   ]
  },
  {
   "cell_type": "code",
   "execution_count": 44,
   "id": "4af98f8e-2525-4405-8bc5-c180356314a8",
   "metadata": {},
   "outputs": [
    {
     "name": "stdout",
     "output_type": "stream",
     "text": [
      "Saving split1 to ../data/1.csv\n",
      "Saving split2 to ../data/2.csv\n",
      "Saving split3 to ../data/3.csv\n",
      "Saving split4 to ../data/4.csv\n",
      "Saving split5 to ../data/5.csv\n"
     ]
    }
   ],
   "source": [
    "splits = make_splits(df, output_dir = data_dir)"
   ]
  },
  {
   "cell_type": "code",
   "execution_count": 45,
   "id": "563a98d9-51b1-47c5-969b-ad79b2a2c8ad",
   "metadata": {},
   "outputs": [
    {
     "data": {
      "text/html": [
       "<div>\n",
       "<style scoped>\n",
       "    .dataframe tbody tr th:only-of-type {\n",
       "        vertical-align: middle;\n",
       "    }\n",
       "\n",
       "    .dataframe tbody tr th {\n",
       "        vertical-align: top;\n",
       "    }\n",
       "\n",
       "    .dataframe thead th {\n",
       "        text-align: right;\n",
       "    }\n",
       "</style>\n",
       "<table border=\"1\" class=\"dataframe\">\n",
       "  <thead>\n",
       "    <tr style=\"text-align: right;\">\n",
       "      <th></th>\n",
       "      <th>black</th>\n",
       "      <th>white</th>\n",
       "      <th>color</th>\n",
       "      <th>move</th>\n",
       "      <th>response_time</th>\n",
       "      <th>participant_id</th>\n",
       "    </tr>\n",
       "  </thead>\n",
       "  <tbody>\n",
       "    <tr>\n",
       "      <th>0</th>\n",
       "      <td>28</td>\n",
       "      <td>3145728</td>\n",
       "      <td>White</td>\n",
       "      <td>524288</td>\n",
       "      <td>1</td>\n",
       "      <td>1</td>\n",
       "    </tr>\n",
       "    <tr>\n",
       "      <th>1</th>\n",
       "      <td>24576</td>\n",
       "      <td>4194304</td>\n",
       "      <td>White</td>\n",
       "      <td>8388608</td>\n",
       "      <td>1</td>\n",
       "      <td>1</td>\n",
       "    </tr>\n",
       "    <tr>\n",
       "      <th>2</th>\n",
       "      <td>1073741824</td>\n",
       "      <td>0</td>\n",
       "      <td>White</td>\n",
       "      <td>2097152</td>\n",
       "      <td>1</td>\n",
       "      <td>1</td>\n",
       "    </tr>\n",
       "    <tr>\n",
       "      <th>3</th>\n",
       "      <td>10745839616</td>\n",
       "      <td>4218880</td>\n",
       "      <td>White</td>\n",
       "      <td>4096</td>\n",
       "      <td>1</td>\n",
       "      <td>1</td>\n",
       "    </tr>\n",
       "    <tr>\n",
       "      <th>4</th>\n",
       "      <td>5373956097</td>\n",
       "      <td>2147491952</td>\n",
       "      <td>White</td>\n",
       "      <td>8</td>\n",
       "      <td>1</td>\n",
       "      <td>1</td>\n",
       "    </tr>\n",
       "  </tbody>\n",
       "</table>\n",
       "</div>"
      ],
      "text/plain": [
       "         black       white  color     move  response_time  participant_id\n",
       "0           28     3145728  White   524288              1               1\n",
       "1        24576     4194304  White  8388608              1               1\n",
       "2   1073741824           0  White  2097152              1               1\n",
       "3  10745839616     4218880  White     4096              1               1\n",
       "4   5373956097  2147491952  White        8              1               1"
      ]
     },
     "execution_count": 45,
     "metadata": {},
     "output_type": "execute_result"
    }
   ],
   "source": [
    "splits[0].head()"
   ]
  },
  {
   "cell_type": "markdown",
   "id": "f16ea3ac-c9f7-4643-b3e2-8d5677b40b99",
   "metadata": {},
   "source": [
    "## Load Data into Model Fitting Code"
   ]
  },
  {
   "cell_type": "code",
   "execution_count": 75,
   "id": "c47e85d1-7f53-481f-8a17-38f5860d685a",
   "metadata": {},
   "outputs": [
    {
     "name": "stdout",
     "output_type": "stream",
     "text": [
      "Warning: Column 'reaction_time' not found in DataFrame. Defaulting to 1.0 for all moves.\n",
      "Warning: Column 'group_id' not found in DataFrame. Defaulting to 1 for all moves.\n"
     ]
    },
    {
     "data": {
      "text/plain": [
       "True"
      ]
     },
     "execution_count": 75,
     "metadata": {},
     "output_type": "execute_result"
    }
   ],
   "source": [
    "from utils import *\n",
    "[csvmove for csvmove in df_to_CSVMove(splits[0])][0] =="
   ]
  },
  {
   "cell_type": "markdown",
   "id": "203b120b-c352-420a-81d1-214948793957",
   "metadata": {},
   "source": [
    "The parser takes in a CSV filename and turns it into a list of \n",
    "objects of type CSVMove ..."
   ]
  },
  {
   "cell_type": "code",
   "execution_count": 73,
   "id": "325a7229-8994-4231-ad52-28b9f9243a8d",
   "metadata": {},
   "outputs": [
    {
     "name": "stdout",
     "output_type": "stream",
     "text": [
      "File is either not a JSON file, or is malformed. Attempting to parse as a CSV...\n",
      "the rows are type <class 'parsers.CSVMove'>\n",
      "and they look like\n",
      "[28\t3145728\tWhite\t524288\t1.0\t1\t1, 24576\t4194304\tWhite\t8388608\t1.0\t1\t1, 1073741824\t0\tWhite\t2097152\t1.0\t1\t1, 10745839616\t4218880\tWhite\t4096\t1.0\t1\t1, 5373956097\t2147491952\tWhite\t8\t1.0\t1\t1, 16793616\t12582912\tWhite\t2097152\t1.0\t1\t1, 4194304\t0\tWhite\t2147483648\t1.0\t1\t1, 18\t4194304\tWhite\t2097152\t1.0\t1\t1, 4311744512\t4194304\tWhite\t2097152\t1.0\t1\t1, 8388608\t0\tWhite\t4194304\t1.0\t1\t1]\n"
     ]
    }
   ],
   "source": [
    "data = parse_participant_file(f\"{data_path}/1.csv\", ignore_csv_header = True)\n",
    "print(f\"the rows are type {type(data[0])}\")\n",
    "print(\"and they look like\")\n",
    "print(data[:10])"
   ]
  },
  {
   "cell_type": "code",
   "execution_count": 74,
   "id": "febd36ff-435e-41aa-b856-1e096e9b2d8a",
   "metadata": {},
   "outputs": [
    {
     "data": {
      "text/plain": [
       "[28\t3145728\tWhite\t524288\t1.0\t1\t1,\n",
       " 24576\t4194304\tWhite\t8388608\t1.0\t1\t1,\n",
       " 1073741824\t0\tWhite\t2097152\t1.0\t1\t1,\n",
       " 10745839616\t4218880\tWhite\t4096\t1.0\t1\t1,\n",
       " 5373956097\t2147491952\tWhite\t8\t1.0\t1\t1,\n",
       " 16793616\t12582912\tWhite\t2097152\t1.0\t1\t1,\n",
       " 4194304\t0\tWhite\t2147483648\t1.0\t1\t1,\n",
       " 18\t4194304\tWhite\t2097152\t1.0\t1\t1,\n",
       " 4311744512\t4194304\tWhite\t2097152\t1.0\t1\t1,\n",
       " 8388608\t0\tWhite\t4194304\t1.0\t1\t1,\n",
       " 16\t0\tWhite\t4194304\t1.0\t1\t1,\n",
       " 8224\t4194304\tWhite\t2097152\t1.0\t1\t1,\n",
       " 34368663586\t7340060\tWhite\t2048\t1.0\t1\t1,\n",
       " 6979321856\t6291456\tWhite\t1048576\t1.0\t1\t1,\n",
       " 536870920\t2147483648\tWhite\t4294967296\t1.0\t1\t1,\n",
       " 16\t0\tWhite\t1073741824\t1.0\t1\t1,\n",
       " 2101248\t2147483648\tWhite\t1073741824\t1.0\t1\t1,\n",
       " 16\t0\tWhite\t2147483648\t1.0\t1\t1,\n",
       " 6527385856\t14700544\tWhite\t8192\t1.0\t1\t1,\n",
       " 25165824\t1073741824\tWhite\t2147483648\t1.0\t1\t1,\n",
       " 4563406884\t3760193536\tWhite\t1048576\t1.0\t1\t1,\n",
       " 1077952512\t6442450944\tWhite\t8589934592\t1.0\t1\t1,\n",
       " 16785424\t6291456\tWhite\t1048576\t1.0\t1\t1,\n",
       " 16384\t0\tWhite\t4194304\t1.0\t1\t1,\n",
       " 32\t0\tWhite\t4194304\t1.0\t1\t1,\n",
       " 88\t6291456\tWhite\t8388608\t1.0\t1\t1,\n",
       " 8388608\t0\tWhite\t2147483648\t1.0\t1\t1,\n",
       " 10739550208\t28676\tWhite\t2\t1.0\t1\t1,\n",
       " 4194304\t0\tWhite\t1073741824\t1.0\t1\t1,\n",
       " 1048784\t6291488\tWhite\t8388608\t1.0\t1\t1,\n",
       " 16\t0\tWhite\t4194304\t1.0\t1\t1,\n",
       " 4294967552\t4194304\tWhite\t2097152\t1.0\t1\t1,\n",
       " 34905534498\t7342108\tWhite\t2147483648\t1.0\t1\t1,\n",
       " 4303372288\t3221225472\tWhite\t536870912\t1.0\t1\t1,\n",
       " 8592066560\t28672\tWhite\t4\t1.0\t1\t1,\n",
       " 8224\t4194304\tWhite\t2097152\t1.0\t1\t1,\n",
       " 17196646416\t3145728\tWhite\t4194304\t1.0\t1\t1,\n",
       " 8388608\t0\tWhite\t2147483648\t1.0\t1\t1,\n",
       " 11811160064\t6291456\tWhite\t1048576\t1.0\t1\t1,\n",
       " 6997147656\t14692352\tWhite\t16384\t1.0\t1\t1,\n",
       " 4294967296\t0\tWhite\t8192\t1.0\t1\t1,\n",
       " 26\t12582912\tWhite\t2097152\t1.0\t1\t1,\n",
       " 1208483841\t7340032\tWhite\t8388608\t1.0\t1\t1,\n",
       " 8388640\t4194304\tWhite\t4096\t1.0\t1\t1,\n",
       " 32\t0\tWhite\t4194304\t1.0\t1\t1,\n",
       " 4330684416\t29360128\tWhite\t8192\t1.0\t1\t1,\n",
       " 17197695184\t14688288\tWhite\t4096\t1.0\t1\t1,\n",
       " 15032385536\t6291456\tWhite\t1048576\t1.0\t1\t1,\n",
       " 4312793344\t14680064\tWhite\t4096\t1.0\t1\t1,\n",
       " 22528\t6291456\tWhite\t1048576\t1.0\t1\t1,\n",
       " 4096\t0\tWhite\t2097152\t1.0\t1\t1,\n",
       " 2415919104\t4194304\tWhite\t2097152\t1.0\t1\t1,\n",
       " 2952790016\t6291456\tWhite\t1048576\t1.0\t1\t1,\n",
       " 4194304\t0\tWhite\t2097152\t1.0\t1\t1,\n",
       " 3489660928\t6291456\tWhite\t1048576\t1.0\t1\t1,\n",
       " 4312793344\t14680064\tWhite\t16384\t1.0\t1\t1,\n",
       " 67198976\t7340032\tWhite\t8388608\t1.0\t1\t1,\n",
       " 4112\t2097152\tWhite\t1048576\t1.0\t1\t1,\n",
       " 4202512\t3145728\tWhite\t524288\t1.0\t1\t1,\n",
       " 96\t4194304\tWhite\t2097152\t1.0\t1\t1,\n",
       " 17311744\t7340032\tWhite\t8388608\t1.0\t1\t1,\n",
       " 16384\t0\tWhite\t4194304\t1.0\t1\t1,\n",
       " 1091043392\t14680064\tWhite\t1048576\t1.0\t1\t1,\n",
       " 8921608\t7344128\tWhite\t4\t1.0\t1\t1,\n",
       " 540680\t6291456\tWhite\t8388608\t1.0\t1\t1,\n",
       " 4194304\t0\tWhite\t1048576\t1.0\t1\t1,\n",
       " 4311760896\t12582912\tWhite\t2097152\t1.0\t1\t1,\n",
       " 8\t0\tWhite\t2097152\t1.0\t1\t1,\n",
       " 32\t0\tWhite\t4194304\t1.0\t1\t1,\n",
       " 1074266176\t6291456\tWhite\t8388608\t1.0\t1\t1,\n",
       " 4096\t0\tWhite\t2097152\t1.0\t1\t1,\n",
       " 22528\t6291456\tWhite\t1048576\t1.0\t1\t1,\n",
       " 4194304\t0\tWhite\t2147483648\t1.0\t1\t1,\n",
       " 6979321856\t24576\tWhite\t4096\t1.0\t1\t1,\n",
       " 16793600\t4194304\tWhite\t2097152\t1.0\t1\t1,\n",
       " 10737418240\t4194304\tWhite\t2097152\t1.0\t1\t1,\n",
       " 42537088\t7342084\tWhite\t536870912\t1.0\t1\t1,\n",
       " 4303355936\t6291456\tWhite\t1048576\t1.0\t1\t1,\n",
       " 262153\t6291456\tWhite\t1048576\t1.0\t1\t1,\n",
       " 1212154880\t3670016\tWhite\t262144\t1.0\t1\t1,\n",
       " 13115408\t3149832\tWhite\t1073741824\t1.0\t1\t1,\n",
       " 2149613568\t805306368\tWhite\t134217728\t1.0\t1\t1,\n",
       " 4294967296\t0\tWhite\t8388608\t1.0\t1\t1,\n",
       " 13976731648\t14692352\tWhite\t2048\t1.0\t1\t1,\n",
       " 4299161600\t2147483648\tWhite\t8192\t1.0\t1\t1,\n",
       " 1073152\t12582912\tWhite\t16777216\t1.0\t1\t1,\n",
       " 8208\t2097152\tWhite\t1048576\t1.0\t1\t1,\n",
       " 4194304\t0\tWhite\t1073741824\t1.0\t1\t1,\n",
       " 92274688\t1610612736\tWhite\t2147483648\t1.0\t1\t1,\n",
       " 2147483648\t0\tWhite\t4194304\t1.0\t1\t1,\n",
       " 73728\t4194304\tWhite\t2097152\t1.0\t1\t1,\n",
       " 1073168\t29360128\tWhite\t2097152\t1.0\t1\t1,\n",
       " 8192\t0\tWhite\t1073741824\t1.0\t1\t1,\n",
       " 4096\t0\tWhite\t2097152\t1.0\t1\t1,\n",
       " 8592033792\t12288\tWhite\t16384\t1.0\t1\t1,\n",
       " 8732549120\t7340032\tWhite\t524288\t1.0\t1\t1,\n",
       " 7534022656\t14729216\tWhite\t8192\t1.0\t1\t1,\n",
       " 1077936128\t2147483648\tWhite\t4294967296\t1.0\t1\t1,\n",
       " 16\t0\tWhite\t4194304\t1.0\t1\t1,\n",
       " 8732540929\t7516192768\tWhite\t536870912\t1.0\t1\t1,\n",
       " 1091571712\t14680064\tWhite\t8192\t1.0\t1\t1,\n",
       " 4198416\t3145728\tWhite\t524288\t1.0\t1\t1,\n",
       " 2147483648\t0\tWhite\t4194304\t1.0\t1\t1,\n",
       " 8\t0\tWhite\t2097152\t1.0\t1\t1,\n",
       " 17891344\t14680064\tWhite\t4096\t1.0\t1\t1,\n",
       " 8646557698\t7517765632\tWhite\t536870912\t1.0\t1\t1,\n",
       " 1075838984\t12582912\tWhite\t16777216\t1.0\t1\t1,\n",
       " 208\t6442450944\tWhite\t1073741824\t1.0\t1\t1,\n",
       " 2097152\t0\tWhite\t1073741824\t1.0\t1\t1,\n",
       " 160\t4194304\tWhite\t2097152\t1.0\t1\t1,\n",
       " 10745806848\t4202496\tWhite\t16384\t1.0\t1\t1,\n",
       " 8917000\t7340032\tWhite\t2048\t1.0\t1\t1,\n",
       " 17197699080\t14688256\tWhite\t16\t1.0\t1\t1,\n",
       " 2147483648\t0\tWhite\t2097152\t1.0\t1\t1,\n",
       " 8598323200\t2147483648\tWhite\t1073741824\t1.0\t1\t1,\n",
       " 2097152\t0\tWhite\t1073741824\t1.0\t1\t1,\n",
       " 17196646416\t6291456\tWhite\t1048576\t1.0\t1\t1,\n",
       " 52\t6291456\tWhite\t1048576\t1.0\t1\t1,\n",
       " 8192\t0\tWhite\t4194304\t1.0\t1\t1,\n",
       " 4294967296\t0\tWhite\t4194304\t1.0\t1\t1,\n",
       " 16\t0\tWhite\t2097152\t1.0\t1\t1,\n",
       " 4294967552\t4194304\tWhite\t8388608\t1.0\t1\t1,\n",
       " 2101250\t24\tWhite\t32\t1.0\t1\t1,\n",
       " 90112\t6291456\tWhite\t1048576\t1.0\t1\t1,\n",
       " 268436504\t14336\tWhite\t16384\t1.0\t1\t1,\n",
       " 4294967296\t0\tWhite\t4194304\t1.0\t1\t1,\n",
       " 1208483840\t6291456\tWhite\t8388608\t1.0\t1\t1,\n",
       " 524296\t2097152\tWhite\t4194304\t1.0\t1\t1,\n",
       " 1082130432\t2147483648\tWhite\t2097152\t1.0\t1\t1,\n",
       " 4194304\t0\tWhite\t1073741824\t1.0\t1\t1,\n",
       " 6442450944\t4194304\tWhite\t2097152\t1.0\t1\t1,\n",
       " 2283810880\t1880098816\tWhite\t4\t1.0\t1\t1,\n",
       " 36864\t2147483648\tWhite\t4194304\t1.0\t1\t1,\n",
       " 4303355936\t6291456\tWhite\t1048576\t1.0\t1\t1,\n",
       " 21492662288\t14684160\tWhite\t8192\t1.0\t1\t1,\n",
       " 21483225088\t6291456\tWhite\t1048576\t1.0\t1\t1,\n",
       " 9\t2097152\tWhite\t4194304\t1.0\t1\t1,\n",
       " 4294967552\t4194304\tWhite\t2097152\t1.0\t1\t1,\n",
       " 20\t4194304\tWhite\t8388608\t1.0\t1\t1,\n",
       " 16883776\t7356416\tWhite\t8388608\t1.0\t1\t1,\n",
       " 34394341408\t14680064\tWhite\t16777216\t1.0\t1\t1,\n",
       " 16\t0\tWhite\t8192\t1.0\t1\t1,\n",
       " 4096\t0\tWhite\t2097152\t1.0\t1\t1,\n",
       " 14680064\t3221225472\tWhite\t536870912\t1.0\t1\t1,\n",
       " 8945664\t3145728\tWhite\t4096\t1.0\t1\t1,\n",
       " 17301540\t14680064\tWhite\t1048576\t1.0\t1\t1,\n",
       " 4312793088\t12582912\tWhite\t2097152\t1.0\t1\t1,\n",
       " 2097152\t0\tWhite\t1073741824\t1.0\t1\t1,\n",
       " 32\t0\tWhite\t4194304\t1.0\t1\t1,\n",
       " 4294967296\t0\tWhite\t4194304\t1.0\t1\t1,\n",
       " 17301528\t7340032\tWhite\t8388608\t1.0\t1\t1,\n",
       " 2097152\t0\tWhite\t536870912\t1.0\t1\t1,\n",
       " 1082146816\t2149580800\tWhite\t1048576\t1.0\t1\t1,\n",
       " 2149580864\t1610612736\tWhite\t268435456\t1.0\t1\t1,\n",
       " 4194320\t2097152\tWhite\t1048576\t1.0\t1\t1,\n",
       " 1048586\t2101248\tWhite\t2048\t1.0\t1\t1,\n",
       " 24\t2097152\tWhite\t4194304\t1.0\t1\t1,\n",
       " 16\t0\tWhite\t2097152\t1.0\t1\t1,\n",
       " 277381120\t3149824\tWhite\t8192\t1.0\t1\t1,\n",
       " 2097152\t0\tWhite\t1073741824\t1.0\t1\t1,\n",
       " 8392712\t6291456\tWhite\t1048576\t1.0\t1\t1,\n",
       " 8192\t0\tWhite\t2147483648\t1.0\t1\t1,\n",
       " 2684354560\t4194304\tWhite\t2097152\t1.0\t1\t1,\n",
       " 4294967328\t4194304\tWhite\t2097152\t1.0\t1\t1,\n",
       " 9\t4194304\tWhite\t2097152\t1.0\t1\t1,\n",
       " 4349493248\t3758096384\tWhite\t268435456\t1.0\t1\t1,\n",
       " 18432\t4194304\tWhite\t2097152\t1.0\t1\t1,\n",
       " 17301552\t14680064\tWhite\t1048576\t1.0\t1\t1,\n",
       " 8\t0\tWhite\t2097152\t1.0\t1\t1,\n",
       " 17188257808\t6291456\tWhite\t1048576\t1.0\t1\t1,\n",
       " 272629776\t3221225472\tWhite\t4294967296\t1.0\t1\t1,\n",
       " 4294967296\t0\tWhite\t4194304\t1.0\t1\t1,\n",
       " 4294983680\t4194304\tWhite\t8388608\t1.0\t1\t1,\n",
       " 16\t0\tWhite\t4194304\t1.0\t1\t1,\n",
       " 4330684432\t29368320\tWhite\t4096\t1.0\t1\t1,\n",
       " 8458240\t6291456\tWhite\t1048576\t1.0\t1\t1,\n",
       " 4295032832\t4194304\tWhite\t8388608\t1.0\t1\t1,\n",
       " 4194304\t0\tWhite\t2147483648\t1.0\t1\t1,\n",
       " 1077936129\t3145728\tWhite\t524288\t1.0\t1\t1,\n",
       " 16384\t0\tWhite\t2147483648\t1.0\t1\t1,\n",
       " 272896000\t3670016\tWhite\t2048\t1.0\t1\t1,\n",
       " 6144\t2097152\tWhite\t1048576\t1.0\t1\t1,\n",
       " 5368709136\t6291456\tWhite\t1048576\t1.0\t1\t1,\n",
       " 2148532228\t6291456\tWhite\t8388608\t1.0\t1\t1,\n",
       " 538976256\t1077936128\tWhite\t16\t1.0\t1\t1,\n",
       " 1073741824\t0\tWhite\t4194304\t1.0\t1\t1,\n",
       " 4435476480\t3758096384\tWhite\t268435456\t1.0\t1\t1,\n",
       " 4294967296\t0\tWhite\t4194304\t1.0\t1\t1,\n",
       " 16\t0\tWhite\t4194304\t1.0\t1\t1,\n",
       " 1048584\t2097152\tWhite\t4096\t1.0\t1\t1]"
      ]
     },
     "execution_count": 74,
     "metadata": {},
     "output_type": "execute_result"
    }
   ],
   "source": [
    "data"
   ]
  },
  {
   "cell_type": "markdown",
   "id": "acd44263-aa78-4d10-bd90-c418a692eb05",
   "metadata": {},
   "source": [
    "### Making Cross Validation Splits "
   ]
  },
  {
   "cell_type": "code",
   "execution_count": 16,
   "id": "b4f73bed-2f4f-434b-bbaa-58d756a9ad8c",
   "metadata": {},
   "outputs": [],
   "source": []
  },
  {
   "cell_type": "code",
   "execution_count": null,
   "id": "d9ea19a9-5155-4b01-b72d-3923b413d76d",
   "metadata": {},
   "outputs": [],
   "source": [
    "parse_participant_file("
   ]
  }
 ],
 "metadata": {
  "kernelspec": {
   "display_name": "singularity",
   "language": "python",
   "name": "my_env"
  },
  "language_info": {
   "codemirror_mode": {
    "name": "ipython",
    "version": 3
   },
   "file_extension": ".py",
   "mimetype": "text/x-python",
   "name": "python",
   "nbconvert_exporter": "python",
   "pygments_lexer": "ipython3",
   "version": "3.10.13"
  }
 },
 "nbformat": 4,
 "nbformat_minor": 5
}
